{
 "cells": [
  {
   "cell_type": "code",
   "execution_count": null,
   "metadata": {},
   "outputs": [],
   "source": []
  },
  {
   "cell_type": "markdown",
   "metadata": {},
   "source": [
    "Bilder werden entsprechend ihrer Klasse in einem Ordner abgelegt. Alle Ordner können in data/interim abgelegt werden."
   ]
  }
 ],
 "metadata": {
  "kernelspec": {
   "display_name": "Python 3.10.4 ('toolbox')",
   "language": "python",
   "name": "python3"
  },
  "language_info": {
   "name": "python",
   "version": "3.10.4"
  },
  "orig_nbformat": 4,
  "vscode": {
   "interpreter": {
    "hash": "fbeb741a8c5d2e529be96d0980c26c68fdbaddad0c240d63854c3e2790e72141"
   }
  }
 },
 "nbformat": 4,
 "nbformat_minor": 2
}

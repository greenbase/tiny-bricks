{
 "cells": [
  {
   "cell_type": "markdown",
   "metadata": {},
   "source": [
    "### **Load images from directory**\n",
    "- Use flow_from_dataframe function to not have to save images in subfolders according to their label.\n",
    "- Build pandas dataframe containing the filenames and the according labels"
   ]
  },
  {
   "cell_type": "code",
   "execution_count": 44,
   "metadata": {},
   "outputs": [
    {
     "name": "stderr",
     "output_type": "stream",
     "text": [
      "2022-12-02 13:16:31.983167: I tensorflow/core/platform/cpu_feature_guard.cc:193] This TensorFlow binary is optimized with oneAPI Deep Neural Network Library (oneDNN) to use the following CPU instructions in performance-critical operations:  SSE4.1 SSE4.2 AVX AVX2 FMA\n",
      "To enable them in other operations, rebuild TensorFlow with the appropriate compiler flags.\n"
     ]
    }
   ],
   "source": [
    "import pandas as pd\n",
    "import os\n",
    "import tensorflow as tf"
   ]
  },
  {
   "cell_type": "markdown",
   "metadata": {},
   "source": [
    "#### **Useful functions**"
   ]
  },
  {
   "cell_type": "code",
   "execution_count": 37,
   "metadata": {},
   "outputs": [],
   "source": [
    "def get_label(string):\n",
    "    string  = ' '.join(string.split('/')[-1].replace('.png', '').split(' ')[0:-1])\n",
    "    return string"
   ]
  },
  {
   "cell_type": "markdown",
   "metadata": {},
   "source": [
    "#### **Load file names into a list and create pandas dataframe**\n",
    "Need to remove .gitkeep file from list"
   ]
  },
  {
   "cell_type": "code",
   "execution_count": 38,
   "metadata": {},
   "outputs": [],
   "source": [
    "path = '../data/raw/'\n",
    "filenames = os.listdir(path)\n",
    "filenames.remove('.gitkeep')"
   ]
  },
  {
   "cell_type": "markdown",
   "metadata": {},
   "source": [
    "Build pandas dataframe"
   ]
  },
  {
   "cell_type": "code",
   "execution_count": 34,
   "metadata": {},
   "outputs": [],
   "source": [
    "df = pd.DataFrame(filenames, columns=['Filenames'])"
   ]
  },
  {
   "cell_type": "markdown",
   "metadata": {},
   "source": [
    "#### **Get labels from filenames**"
   ]
  },
  {
   "cell_type": "code",
   "execution_count": 54,
   "metadata": {},
   "outputs": [],
   "source": [
    "# Retrieve the label from the path of the pictures\n",
    "df['Label'] = df['Filenames'].apply(lambda x: get_label(x))"
   ]
  },
  {
   "cell_type": "markdown",
   "metadata": {},
   "source": [
    "Check whether number of images per category is right"
   ]
  },
  {
   "cell_type": "code",
   "execution_count": 39,
   "metadata": {},
   "outputs": [
    {
     "data": {
      "text/plain": [
       "3023 Plate 1x2                         800\n",
       "4286 roof tile 1x3                     800\n",
       "3005 brick 1x1                         800\n",
       "2357 brick corner 1x2x2                800\n",
       "54200 roof tile 1x1                    800\n",
       "6143 Brick D16 w cross                 800\n",
       "3004 brick 1x2                         800\n",
       "3020 plate 2x4                         800\n",
       "3024 plate 1x1                         800\n",
       "3068 flat tile 2x2                     800\n",
       "3659 brick bow 1x4                     800\n",
       "3022 Plate 2x2                         800\n",
       "3046 roof corner inside tile 2x2       800\n",
       "43093 Bush 2M friction - Cross axle    800\n",
       "99301 roof tile inside 3x3             800\n",
       "33909 plate 2 knobs 2x2                800\n",
       "4490 brick bow 1x3                     800\n",
       "3623 Plate 1x3                         800\n",
       "3700 Technic Brick 1x2                 800\n",
       "3062 Round Brick 1x1                   800\n",
       "3021 plate 2x3                         800\n",
       "3675 roof tile outside 3x3             800\n",
       "3001 brick 2x4                         800\n",
       "15672 roof tile 1x2                    800\n",
       "3794 Plate 1X2 with 1 Knob             800\n",
       "4150 flat tile round 2x2               800\n",
       "18654 beam 1M                          800\n",
       "3070 Flat Tile 1x1                     800\n",
       "6632 lever 3M                          800\n",
       "3002 brick 2x3                         800\n",
       "2420 plate corner 2x2                  800\n",
       "3039 roof tile 2x2                     800\n",
       "4274 Connector Peg w Knob              800\n",
       "14719 flat tile corner 2x2             800\n",
       "3063 Curved Brick 2 Knobs              800\n",
       "3045 roof corner outside tile 2x2      800\n",
       "41677 lever 2M                         800\n",
       "3622 brick 1x3                         800\n",
       "43857 beam 1x2                         800\n",
       "3069 Flat Tile 1x2                     800\n",
       "3037 roof tile 1x4                     800\n",
       "3040 roof tile 1x2                     800\n",
       "3010 brick 1x4                         800\n",
       "85984 roof tile 1x2                    800\n",
       "3298 roof tile 2x3                     800\n",
       "27925 flat tile round 2x2              800\n",
       "41678 Cross Block Fork 2x2             800\n",
       "3038 roof tile 2x3                     800\n",
       "2780 Peg with friction                 800\n",
       "3003 brick 2x2                         800\n",
       "Name: Label, dtype: int64"
      ]
     },
     "execution_count": 39,
     "metadata": {},
     "output_type": "execute_result"
    }
   ],
   "source": [
    "df['Label'].value_counts()"
   ]
  },
  {
   "cell_type": "markdown",
   "metadata": {},
   "source": [
    "Instantiate ImageDataGenerator and then use flow_from_dataframe to get training and validation data"
   ]
  },
  {
   "cell_type": "code",
   "execution_count": 55,
   "metadata": {},
   "outputs": [
    {
     "name": "stdout",
     "output_type": "stream",
     "text": [
      "Found 36000 validated image filenames belonging to 50 classes.\n",
      "Found 4000 validated image filenames belonging to 50 classes.\n"
     ]
    }
   ],
   "source": [
    "val_split = 0.1\n",
    "image_size = (150, 150)\n",
    "\n",
    "datagen = tf.keras.preprocessing.image.ImageDataGenerator(validation_split = val_split)\n",
    "train_generator = datagen.flow_from_dataframe(df,\n",
    "                                              directory=path,\n",
    "                                              x_col='Filenames',\n",
    "                                              y_col='Label',\n",
    "                                              target_size=image_size,\n",
    "                                              color_mode='grayscale',\n",
    "                                              class_mode='categorical',\n",
    "                                              subset='training')\n",
    "validation_generator = datagen.flow_from_dataframe(df,\n",
    "                                              directory=path,\n",
    "                                              x_col='Filenames',\n",
    "                                              y_col='Label',\n",
    "                                              target_size=image_size,\n",
    "                                              color_mode='grayscale',\n",
    "                                              class_mode='categorical',\n",
    "                                              subset='validation')"
   ]
  },
  {
   "cell_type": "code",
   "execution_count": null,
   "metadata": {},
   "outputs": [],
   "source": []
  }
 ],
 "metadata": {
  "kernelspec": {
   "display_name": "Python 3 (ipykernel)",
   "language": "python",
   "name": "python3"
  },
  "language_info": {
   "codemirror_mode": {
    "name": "ipython",
    "version": 3
   },
   "file_extension": ".py",
   "mimetype": "text/x-python",
   "name": "python",
   "nbconvert_exporter": "python",
   "pygments_lexer": "ipython3",
   "version": "3.7.3"
  },
  "vscode": {
   "interpreter": {
    "hash": "fbeb741a8c5d2e529be96d0980c26c68fdbaddad0c240d63854c3e2790e72141"
   }
  }
 },
 "nbformat": 4,
 "nbformat_minor": 2
}

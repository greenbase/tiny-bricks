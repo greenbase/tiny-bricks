{
 "cells": [
  {
   "cell_type": "code",
   "execution_count": 1,
   "id": "398c3352",
   "metadata": {},
   "outputs": [
    {
     "name": "stderr",
     "output_type": "stream",
     "text": [
      "2023-01-18 12:25:52.695658: I tensorflow/core/platform/cpu_feature_guard.cc:193] This TensorFlow binary is optimized with oneAPI Deep Neural Network Library (oneDNN) to use the following CPU instructions in performance-critical operations:  SSE4.1 SSE4.2 AVX AVX2 FMA\n",
      "To enable them in other operations, rebuild TensorFlow with the appropriate compiler flags.\n"
     ]
    }
   ],
   "source": [
    "import os\n",
    "import pandas as pd\n",
    "import tensorflow as tf\n",
    "import matplotlib.pyplot as plt"
   ]
  },
  {
   "cell_type": "markdown",
   "id": "64e90982",
   "metadata": {},
   "source": [
    "Variablen definieren:"
   ]
  },
  {
   "cell_type": "code",
   "execution_count": 2,
   "id": "4e8bb6c7",
   "metadata": {},
   "outputs": [],
   "source": [
    "path = '../data/raw/'\n",
    "filenames = os.listdir(path)\n",
    "filenames.remove('.gitkeep')\n",
    "image_size = (150, 150)\n",
    "val_split = 0.1\n",
    "batch_size = 150"
   ]
  },
  {
   "cell_type": "markdown",
   "id": "31ca5813",
   "metadata": {},
   "source": [
    "Funktionen:"
   ]
  },
  {
   "cell_type": "code",
   "execution_count": 3,
   "id": "de3e92fe",
   "metadata": {},
   "outputs": [],
   "source": [
    "def get_label(string):\n",
    "    string  = ' '.join(string.split('/')[-1].replace('.png', '').split(' ')[0:-1])\n",
    "    return string\n"
   ]
  },
  {
   "cell_type": "code",
   "execution_count": 4,
   "id": "e785613e",
   "metadata": {},
   "outputs": [],
   "source": [
    "def preprocessing(path, image_size, batch_size, val_split):\n",
    "    \"\"\"\n",
    "    path:       to directory that contains the image files,\n",
    "    val_split:  specified ratio of validation to training data (= percent of all images taken for validation)\n",
    "    image_size: of the images (after resizing by the data generator, needs to be the same in the model)\n",
    "    \n",
    "    returns training and validation DataGenerator\n",
    "    \"\"\"\n",
    "    filenames = os.listdir(path)\n",
    "    filenames.remove('.gitkeep')\n",
    "    df = pd.DataFrame(filenames, columns=['Filenames'])\n",
    "    \n",
    "    df['Label'] = df['Filenames'].apply(lambda x: get_label(x))\n",
    "    df = df.sample(frac=1,random_state=1).reset_index()\n",
    "    \n",
    "    datagen = tf.keras.preprocessing.image.ImageDataGenerator(validation_split = val_split,\n",
    "                                                              rescale=1./255,\n",
    "                                                              #rotation_range=40,\n",
    "                                                              #width_shift_range=0.2,\n",
    "                                                              #height_shift_range=0.2,\n",
    "                                                              #shear_range=0.2,\n",
    "                                                              #zoom_range=0.2,\n",
    "                                                              #horizontal_flip=True,\n",
    "                                                              #fill_mode='nearest')\n",
    "                                                             )\n",
    "    train_generator = datagen.flow_from_dataframe(df,\n",
    "                                              directory=path,\n",
    "                                              x_col='Filenames',\n",
    "                                              y_col='Label',\n",
    "                                              target_size=image_size,\n",
    "                                              batch_size=batch_size,\n",
    "                                              color_mode='grayscale',\n",
    "                                              class_mode='categorical',\n",
    "                                              subset='training',\n",
    "                                              )\n",
    "    validation_generator = datagen.flow_from_dataframe(df,\n",
    "                                              directory=path,\n",
    "                                              x_col='Filenames',\n",
    "                                              y_col='Label',\n",
    "                                              target_size=image_size,\n",
    "                                              batch_size=batch_size,\n",
    "                                              color_mode='grayscale',\n",
    "                                              class_mode='categorical',\n",
    "                                              subset='validation',\n",
    "                                              )\n",
    "    \n",
    "    return train_generator, validation_generator"
   ]
  },
  {
   "cell_type": "markdown",
   "id": "7a360f47",
   "metadata": {},
   "source": [
    "Preprocessing ausführen:"
   ]
  },
  {
   "cell_type": "code",
   "execution_count": 5,
   "id": "abda6acc",
   "metadata": {},
   "outputs": [
    {
     "name": "stdout",
     "output_type": "stream",
     "text": [
      "Found 36000 validated image filenames belonging to 50 classes.\n",
      "Found 4000 validated image filenames belonging to 50 classes.\n"
     ]
    }
   ],
   "source": [
    "train_generator, validation_generator = preprocessing(path, image_size, batch_size, val_split)"
   ]
  },
  {
   "cell_type": "markdown",
   "id": "1b10866a",
   "metadata": {},
   "source": [
    "### Defining the baseline model\n",
    "Specify neccessary hyperparameters"
   ]
  },
  {
   "cell_type": "code",
   "execution_count": 6,
   "id": "8c0cb52f",
   "metadata": {},
   "outputs": [],
   "source": [
    "loss = 'categorical_crossentropy' \n",
    "learning_rate = 1e-4\n",
    "optimizer = tf.keras.optimizers.Adam()#learning_rate=learning_rate)\n",
    "\n",
    "kernels = 64\n",
    "kernel_size = (3,3)\n",
    "activation_conv = 'relu'\n",
    "activation_dense = 'softmax'\n",
    "neurons = 128\n",
    "\n",
    "input_shape = (150,150)"
   ]
  },
  {
   "cell_type": "markdown",
   "id": "5f4b5866",
   "metadata": {},
   "source": [
    "#### Implement callback to stop when validation accuracy rises"
   ]
  },
  {
   "cell_type": "code",
   "execution_count": 7,
   "id": "98fcbd31",
   "metadata": {},
   "outputs": [],
   "source": [
    "es_callback = tf.keras.callbacks.EarlyStopping(monitor='val_loss', patience=10, restore_best_weights=True)"
   ]
  },
  {
   "cell_type": "code",
   "execution_count": 11,
   "id": "a74d9350",
   "metadata": {},
   "outputs": [],
   "source": [
    "model = tf.keras.models.Sequential([\n",
    "    # Note the input shape is the desired size of the image 150x150 with 1 bytes color\n",
    "    # This is the first convolution\n",
    "    #tf.keras.layers.Conv2D(kernels, kernel_size, activation=activation_conv, input_shape=(150, 150, 1)),\n",
    "    #tf.keras.layers.MaxPooling2D(2, 2),\n",
    "    # Second convolution\n",
    "    #tf.keras.layers.Conv2D(kernels, kernel_size, activation=activation_conv),\n",
    "    #tf.keras.layers.MaxPooling2D(2, 2),\n",
    "    # Third convolution\n",
    "    #tf.keras.layers.Conv2D(kernels, kernel_size, activation=activation_conv),\n",
    "    #tf.keras.layers.MaxPooling2D(2, 2),\n",
    "    # Flatten the results to feed into a DNN\n",
    "    tf.keras.layers.Flatten(),\n",
    "    tf.keras.layers.Dropout(0.4),\n",
    "    # 512 neuron hidden layer\n",
    "    tf.keras.layers.Dense(neurons, activation=activation_conv),\n",
    "    tf.keras.layers.Dense(50, activation=activation_dense)\n",
    "])\n",
    "\n",
    "# Print the model summary\n",
    "#model.summary()"
   ]
  },
  {
   "cell_type": "code",
   "execution_count": 27,
   "id": "314f4769",
   "metadata": {},
   "outputs": [
    {
     "name": "stdout",
     "output_type": "stream",
     "text": [
      "Model: \"sequential_6\"\n",
      "_________________________________________________________________\n",
      " Layer (type)                Output Shape              Param #   \n",
      "=================================================================\n",
      " flatten_6 (Flatten)         (None, 22500)             0         \n",
      "                                                                 \n",
      " dropout_6 (Dropout)         (None, 22500)             0         \n",
      "                                                                 \n",
      " dense_12 (Dense)            (None, 128)               2880128   \n",
      "                                                                 \n",
      " dense_13 (Dense)            (None, 50)                6450      \n",
      "                                                                 \n",
      "=================================================================\n",
      "Total params: 2,886,578\n",
      "Trainable params: 2,886,578\n",
      "Non-trainable params: 0\n",
      "_________________________________________________________________\n"
     ]
    }
   ],
   "source": [
    "model = tf.keras.models.Sequential([\n",
    "    # Flatten to feed into a DNN\n",
    "    tf.keras.layers.Flatten(input_shape=(150, 150, 1)),\n",
    "    tf.keras.layers.Dropout(0.4),\n",
    "\n",
    "    tf.keras.layers.Dense(128, activation='relu'),\n",
    "    tf.keras.layers.Dense(50, activation='softmax')\n",
    "])\n",
    "\n",
    "model.compile(loss='categorical_crossentropy', \n",
    "              optimizer=tf.keras.optimizers.Adam(),\n",
    "              metrics=['accuracy'])\n",
    "\n",
    "model.summary()"
   ]
  },
  {
   "cell_type": "code",
   "execution_count": 18,
   "id": "52879d0b",
   "metadata": {},
   "outputs": [
    {
     "name": "stdout",
     "output_type": "stream",
     "text": [
      "Epoch 1/100\n",
      "20/20 [==============================] - 12s 572ms/step - loss: 3.5393 - accuracy: 0.0843 - val_loss: 3.0801 - val_accuracy: 0.1267\n",
      "Epoch 2/100\n",
      "20/20 [==============================] - 14s 722ms/step - loss: 2.9981 - accuracy: 0.1607 - val_loss: 2.7601 - val_accuracy: 0.1978\n",
      "Epoch 3/100\n",
      "20/20 [==============================] - 13s 637ms/step - loss: 2.7332 - accuracy: 0.2010 - val_loss: 2.7595 - val_accuracy: 0.1911\n",
      "Epoch 4/100\n",
      "20/20 [==============================] - 11s 559ms/step - loss: 2.5835 - accuracy: 0.2263 - val_loss: 2.5943 - val_accuracy: 0.2400\n",
      "Epoch 5/100\n",
      "20/20 [==============================] - 11s 546ms/step - loss: 2.5291 - accuracy: 0.2410 - val_loss: 2.5156 - val_accuracy: 0.2289\n",
      "Epoch 6/100\n",
      "20/20 [==============================] - 11s 576ms/step - loss: 2.4598 - accuracy: 0.2593 - val_loss: 2.5235 - val_accuracy: 0.2533\n",
      "Epoch 7/100\n",
      "20/20 [==============================] - 12s 598ms/step - loss: 2.3770 - accuracy: 0.2723 - val_loss: 2.3719 - val_accuracy: 0.2733\n",
      "Epoch 8/100\n",
      "20/20 [==============================] - 13s 668ms/step - loss: 2.3070 - accuracy: 0.2997 - val_loss: 2.2527 - val_accuracy: 0.3200\n",
      "Epoch 9/100\n",
      "20/20 [==============================] - 11s 561ms/step - loss: 2.2370 - accuracy: 0.3103 - val_loss: 2.3946 - val_accuracy: 0.2489\n",
      "Epoch 10/100\n",
      "20/20 [==============================] - 11s 546ms/step - loss: 2.2128 - accuracy: 0.3197 - val_loss: 2.2073 - val_accuracy: 0.2667\n",
      "Epoch 11/100\n",
      "20/20 [==============================] - 11s 549ms/step - loss: 2.1715 - accuracy: 0.3223 - val_loss: 2.2707 - val_accuracy: 0.3067\n",
      "Epoch 12/100\n",
      "20/20 [==============================] - 11s 550ms/step - loss: 2.1889 - accuracy: 0.3163 - val_loss: 2.2835 - val_accuracy: 0.3022\n",
      "Epoch 13/100\n",
      "20/20 [==============================] - 11s 551ms/step - loss: 2.1712 - accuracy: 0.3220 - val_loss: 2.0891 - val_accuracy: 0.3333\n",
      "Epoch 14/100\n",
      "20/20 [==============================] - 11s 550ms/step - loss: 2.1401 - accuracy: 0.3430 - val_loss: 2.1951 - val_accuracy: 0.3022\n",
      "Epoch 15/100\n",
      "20/20 [==============================] - 11s 549ms/step - loss: 2.1510 - accuracy: 0.3370 - val_loss: 2.0382 - val_accuracy: 0.3289\n",
      "Epoch 16/100\n",
      "20/20 [==============================] - 11s 551ms/step - loss: 2.0397 - accuracy: 0.3630 - val_loss: 2.1068 - val_accuracy: 0.2911\n",
      "Epoch 17/100\n",
      "20/20 [==============================] - 11s 548ms/step - loss: 2.0505 - accuracy: 0.3657 - val_loss: 2.0192 - val_accuracy: 0.3556\n",
      "Epoch 18/100\n",
      "20/20 [==============================] - 11s 551ms/step - loss: 1.9532 - accuracy: 0.3833 - val_loss: 2.0064 - val_accuracy: 0.3778\n",
      "Epoch 19/100\n",
      "20/20 [==============================] - 11s 555ms/step - loss: 2.0293 - accuracy: 0.3660 - val_loss: 2.0885 - val_accuracy: 0.3444\n",
      "Epoch 20/100\n",
      "20/20 [==============================] - 11s 543ms/step - loss: 1.9467 - accuracy: 0.3923 - val_loss: 1.9901 - val_accuracy: 0.3667\n",
      "Epoch 21/100\n",
      "20/20 [==============================] - 11s 541ms/step - loss: 1.9482 - accuracy: 0.3953 - val_loss: 2.0311 - val_accuracy: 0.3244\n",
      "Epoch 22/100\n",
      "20/20 [==============================] - 11s 541ms/step - loss: 1.9274 - accuracy: 0.3877 - val_loss: 1.9972 - val_accuracy: 0.3422\n",
      "Epoch 23/100\n",
      "20/20 [==============================] - 11s 550ms/step - loss: 1.9029 - accuracy: 0.4013 - val_loss: 1.9305 - val_accuracy: 0.3933\n",
      "Epoch 24/100\n",
      "20/20 [==============================] - 11s 546ms/step - loss: 1.8589 - accuracy: 0.4150 - val_loss: 2.1159 - val_accuracy: 0.3200\n",
      "Epoch 25/100\n",
      "20/20 [==============================] - 11s 552ms/step - loss: 1.8458 - accuracy: 0.4243 - val_loss: 1.9642 - val_accuracy: 0.4133\n",
      "Epoch 26/100\n",
      "20/20 [==============================] - 11s 548ms/step - loss: 1.8259 - accuracy: 0.4177 - val_loss: 1.9000 - val_accuracy: 0.4022\n",
      "Epoch 27/100\n",
      "20/20 [==============================] - 11s 552ms/step - loss: 1.8591 - accuracy: 0.4130 - val_loss: 1.9041 - val_accuracy: 0.4044\n",
      "Epoch 28/100\n",
      "20/20 [==============================] - 11s 555ms/step - loss: 1.7785 - accuracy: 0.4480 - val_loss: 1.9071 - val_accuracy: 0.4178\n",
      "Epoch 29/100\n",
      "20/20 [==============================] - 11s 547ms/step - loss: 1.8086 - accuracy: 0.4280 - val_loss: 1.9614 - val_accuracy: 0.3867\n",
      "Epoch 30/100\n",
      "20/20 [==============================] - 11s 545ms/step - loss: 1.7984 - accuracy: 0.4300 - val_loss: 1.7942 - val_accuracy: 0.4133\n",
      "Epoch 31/100\n",
      "20/20 [==============================] - 11s 542ms/step - loss: 1.8172 - accuracy: 0.4183 - val_loss: 1.8594 - val_accuracy: 0.3933\n",
      "Epoch 32/100\n",
      "20/20 [==============================] - 11s 539ms/step - loss: 1.7494 - accuracy: 0.4470 - val_loss: 1.9002 - val_accuracy: 0.3867\n",
      "Epoch 33/100\n",
      "20/20 [==============================] - 11s 540ms/step - loss: 1.7243 - accuracy: 0.4477 - val_loss: 1.8458 - val_accuracy: 0.4178\n",
      "Epoch 34/100\n",
      "20/20 [==============================] - 11s 548ms/step - loss: 1.7446 - accuracy: 0.4583 - val_loss: 1.9280 - val_accuracy: 0.3911\n",
      "Epoch 35/100\n",
      "20/20 [==============================] - 11s 552ms/step - loss: 1.7203 - accuracy: 0.4550 - val_loss: 1.8252 - val_accuracy: 0.4133\n",
      "Epoch 36/100\n",
      "20/20 [==============================] - 12s 611ms/step - loss: 1.7540 - accuracy: 0.4340 - val_loss: 1.8633 - val_accuracy: 0.4022\n",
      "Epoch 37/100\n",
      "20/20 [==============================] - 11s 547ms/step - loss: 1.6676 - accuracy: 0.4683 - val_loss: 1.8518 - val_accuracy: 0.4044\n",
      "Epoch 38/100\n",
      "20/20 [==============================] - 12s 610ms/step - loss: 1.6801 - accuracy: 0.4767 - val_loss: 1.6937 - val_accuracy: 0.4733\n",
      "Epoch 39/100\n",
      "20/20 [==============================] - 13s 641ms/step - loss: 1.6905 - accuracy: 0.4593 - val_loss: 1.8280 - val_accuracy: 0.4089\n",
      "Epoch 40/100\n",
      "20/20 [==============================] - 28s 1s/step - loss: 1.6660 - accuracy: 0.4573 - val_loss: 1.8731 - val_accuracy: 0.4111\n",
      "Epoch 41/100\n",
      "20/20 [==============================] - 20s 1s/step - loss: 1.6337 - accuracy: 0.4800 - val_loss: 1.7968 - val_accuracy: 0.4289\n",
      "Epoch 42/100\n",
      "20/20 [==============================] - 24s 1s/step - loss: 1.6446 - accuracy: 0.4777 - val_loss: 1.7524 - val_accuracy: 0.4422\n",
      "Epoch 43/100\n",
      "20/20 [==============================] - 19s 922ms/step - loss: 1.6645 - accuracy: 0.4710 - val_loss: 1.7313 - val_accuracy: 0.4689\n",
      "Epoch 44/100\n",
      "20/20 [==============================] - 12s 610ms/step - loss: 1.6069 - accuracy: 0.4880 - val_loss: 1.7193 - val_accuracy: 0.4644\n",
      "Epoch 45/100\n",
      "20/20 [==============================] - 12s 624ms/step - loss: 1.6048 - accuracy: 0.4797 - val_loss: 1.6754 - val_accuracy: 0.4378\n",
      "Epoch 46/100\n",
      "20/20 [==============================] - 12s 594ms/step - loss: 1.5530 - accuracy: 0.5027 - val_loss: 1.7593 - val_accuracy: 0.4533\n",
      "Epoch 47/100\n",
      "20/20 [==============================] - 12s 583ms/step - loss: 1.6309 - accuracy: 0.4793 - val_loss: 1.7905 - val_accuracy: 0.4489\n",
      "Epoch 48/100\n",
      "20/20 [==============================] - 11s 584ms/step - loss: 1.5603 - accuracy: 0.5003 - val_loss: 1.8250 - val_accuracy: 0.4044\n",
      "Epoch 49/100\n",
      "20/20 [==============================] - 11s 564ms/step - loss: 1.5712 - accuracy: 0.4940 - val_loss: 1.7712 - val_accuracy: 0.4244\n",
      "Epoch 50/100\n",
      "20/20 [==============================] - 11s 552ms/step - loss: 1.6059 - accuracy: 0.4827 - val_loss: 1.7661 - val_accuracy: 0.4222\n",
      "Epoch 51/100\n",
      "20/20 [==============================] - 11s 582ms/step - loss: 1.5674 - accuracy: 0.4877 - val_loss: 1.7025 - val_accuracy: 0.4622\n",
      "Epoch 52/100\n",
      "20/20 [==============================] - 11s 535ms/step - loss: 1.5783 - accuracy: 0.5013 - val_loss: 1.7098 - val_accuracy: 0.4578\n",
      "Epoch 53/100\n",
      "20/20 [==============================] - 11s 585ms/step - loss: 1.5752 - accuracy: 0.5067 - val_loss: 1.6461 - val_accuracy: 0.4822\n",
      "Epoch 54/100\n",
      "20/20 [==============================] - 12s 587ms/step - loss: 1.5366 - accuracy: 0.5047 - val_loss: 1.6013 - val_accuracy: 0.4911\n",
      "Epoch 55/100\n",
      "20/20 [==============================] - 13s 643ms/step - loss: 1.5792 - accuracy: 0.5007 - val_loss: 1.7449 - val_accuracy: 0.4600\n",
      "Epoch 56/100\n",
      "20/20 [==============================] - 11s 581ms/step - loss: 1.5418 - accuracy: 0.4980 - val_loss: 1.5675 - val_accuracy: 0.4956\n",
      "Epoch 57/100\n",
      "20/20 [==============================] - 11s 560ms/step - loss: 1.5603 - accuracy: 0.4983 - val_loss: 1.7469 - val_accuracy: 0.4489\n",
      "Epoch 58/100\n",
      "20/20 [==============================] - 11s 573ms/step - loss: 1.5476 - accuracy: 0.5083 - val_loss: 1.6450 - val_accuracy: 0.5022\n",
      "Epoch 59/100\n",
      "20/20 [==============================] - 12s 611ms/step - loss: 1.5235 - accuracy: 0.5210 - val_loss: 1.7030 - val_accuracy: 0.4511\n",
      "Epoch 60/100\n",
      "20/20 [==============================] - 11s 553ms/step - loss: 1.4846 - accuracy: 0.5367 - val_loss: 1.5568 - val_accuracy: 0.4711\n",
      "Epoch 61/100\n",
      "20/20 [==============================] - 11s 536ms/step - loss: 1.5350 - accuracy: 0.5187 - val_loss: 1.6691 - val_accuracy: 0.4311\n",
      "Epoch 62/100\n",
      "20/20 [==============================] - 11s 543ms/step - loss: 1.4712 - accuracy: 0.5183 - val_loss: 1.6182 - val_accuracy: 0.4422\n",
      "Epoch 63/100\n",
      "20/20 [==============================] - 11s 577ms/step - loss: 1.4695 - accuracy: 0.5130 - val_loss: 1.6205 - val_accuracy: 0.4733\n",
      "Epoch 64/100\n",
      "20/20 [==============================] - 11s 543ms/step - loss: 1.5030 - accuracy: 0.5127 - val_loss: 1.6486 - val_accuracy: 0.4822\n",
      "Epoch 65/100\n",
      "20/20 [==============================] - 11s 554ms/step - loss: 1.5188 - accuracy: 0.5213 - val_loss: 1.6607 - val_accuracy: 0.4511\n",
      "Epoch 66/100\n",
      "20/20 [==============================] - 11s 544ms/step - loss: 1.5019 - accuracy: 0.5253 - val_loss: 1.5770 - val_accuracy: 0.4778\n",
      "Epoch 67/100\n",
      "20/20 [==============================] - 11s 566ms/step - loss: 1.4744 - accuracy: 0.5250 - val_loss: 1.6585 - val_accuracy: 0.4667\n",
      "Epoch 68/100\n",
      "20/20 [==============================] - 11s 547ms/step - loss: 1.4888 - accuracy: 0.5223 - val_loss: 1.6540 - val_accuracy: 0.4822\n",
      "Epoch 69/100\n",
      "20/20 [==============================] - 12s 623ms/step - loss: 1.4781 - accuracy: 0.5120 - val_loss: 1.5062 - val_accuracy: 0.4867\n",
      "Epoch 70/100\n",
      "20/20 [==============================] - 11s 576ms/step - loss: 1.4655 - accuracy: 0.5277 - val_loss: 1.6826 - val_accuracy: 0.4644\n",
      "Epoch 71/100\n",
      "20/20 [==============================] - 14s 719ms/step - loss: 1.4451 - accuracy: 0.5277 - val_loss: 1.7042 - val_accuracy: 0.4711\n",
      "Epoch 72/100\n",
      "20/20 [==============================] - 11s 545ms/step - loss: 1.4759 - accuracy: 0.5307 - val_loss: 1.6608 - val_accuracy: 0.4933\n",
      "Epoch 73/100\n",
      "20/20 [==============================] - 12s 608ms/step - loss: 1.4771 - accuracy: 0.5193 - val_loss: 1.5586 - val_accuracy: 0.4844\n",
      "Epoch 74/100\n",
      "20/20 [==============================] - 11s 581ms/step - loss: 1.4485 - accuracy: 0.5217 - val_loss: 1.5852 - val_accuracy: 0.4933\n",
      "Epoch 75/100\n",
      "20/20 [==============================] - 11s 564ms/step - loss: 1.4623 - accuracy: 0.5267 - val_loss: 1.5562 - val_accuracy: 0.5044\n",
      "Epoch 76/100\n",
      "20/20 [==============================] - 12s 602ms/step - loss: 1.4411 - accuracy: 0.5253 - val_loss: 1.5585 - val_accuracy: 0.4667\n",
      "Epoch 77/100\n",
      "20/20 [==============================] - 13s 672ms/step - loss: 1.4627 - accuracy: 0.5313 - val_loss: 1.7136 - val_accuracy: 0.4667\n",
      "Epoch 78/100\n",
      "20/20 [==============================] - 12s 600ms/step - loss: 1.4487 - accuracy: 0.5247 - val_loss: 1.5892 - val_accuracy: 0.5000\n",
      "Epoch 79/100\n",
      "20/20 [==============================] - 12s 584ms/step - loss: 1.4623 - accuracy: 0.5340 - val_loss: 1.7064 - val_accuracy: 0.4356\n"
     ]
    }
   ],
   "source": [
    "history2 = model.fit(train_generator, epochs=100, steps_per_epoch=20, validation_data=validation_generator, verbose = 1, validation_steps=3, callbacks=[es_callback])"
   ]
  },
  {
   "cell_type": "code",
   "execution_count": 22,
   "id": "c7786ca8",
   "metadata": {},
   "outputs": [
    {
     "data": {
      "image/png": "[encoded data removed]",
      "text/plain": [
       "<Figure size 500x800 with 2 Axes>"
      ]
     },
     "metadata": {},
     "output_type": "display_data"
    }
   ],
   "source": [
    "# Plot the results\n",
    "acc = history2.history['accuracy']\n",
    "val_acc = history2.history['val_accuracy']\n",
    "loss = history2.history['loss']\n",
    "val_loss = history2.history['val_loss']\n",
    "\n",
    "epochs = range(len(acc))\n",
    "\n",
    "fig = plt.figure(figsize=(5,8))\n",
    "fig.add_subplot(211)\n",
    "plt.plot(epochs, acc, 'r', label='Training accuracy')\n",
    "plt.plot(epochs, val_acc, 'b', label='Validation accuracy')\n",
    "plt.title('Training and validation accuracy')\n",
    "plt.legend(loc=0)\n",
    "\n",
    "fig.add_subplot(212)\n",
    "plt.plot(epochs, loss, 'r', label='Training loss')\n",
    "plt.plot(epochs, val_loss, 'b', label='Validation loss')\n",
    "plt.title('Training and validation loss')\n",
    "plt.legend(loc=0)\n",
    "\n",
    "plt.savefig('/home/trahm/Desktop/ML_Degree/ML_Tensorflow/Accuracy_Loss_DNN_Baseline.png', dpi=200, bbox_inches='tight')\n",
    "plt.show()"
   ]
  },
  {
   "cell_type": "code",
   "execution_count": 157,
   "id": "02968594",
   "metadata": {},
   "outputs": [
    {
     "ename": "NameError",
     "evalue": "name 'history' is not defined",
     "output_type": "error",
     "traceback": [
      "\u001b[1;31m---------------------------------------------------------------------------\u001b[0m",
      "\u001b[1;31mNameError\u001b[0m                                 Traceback (most recent call last)",
      "Cell \u001b[1;32mIn[157], line 2\u001b[0m\n\u001b[0;32m      1\u001b[0m \u001b[39m# Plot the results\u001b[39;00m\n\u001b[1;32m----> 2\u001b[0m acc \u001b[39m=\u001b[39m history\u001b[39m.\u001b[39mhistory[\u001b[39m'\u001b[39m\u001b[39maccuracy\u001b[39m\u001b[39m'\u001b[39m]\n\u001b[0;32m      3\u001b[0m val_acc \u001b[39m=\u001b[39m history\u001b[39m.\u001b[39mhistory[\u001b[39m'\u001b[39m\u001b[39mval_accuracy\u001b[39m\u001b[39m'\u001b[39m]\n\u001b[0;32m      4\u001b[0m loss \u001b[39m=\u001b[39m history\u001b[39m.\u001b[39mhistory[\u001b[39m'\u001b[39m\u001b[39mloss\u001b[39m\u001b[39m'\u001b[39m]\n",
      "\u001b[1;31mNameError\u001b[0m: name 'history' is not defined"
     ]
    }
   ],
   "source": [
    "# Plot the results\n",
    "acc = history.history['accuracy']\n",
    "val_acc = history.history['val_accuracy']\n",
    "loss = history.history['loss']\n",
    "val_loss = history.history['val_loss']\n",
    "\n",
    "epochs = range(len(acc))\n",
    "\n",
    "fig = plt.figure(figsize=(5,8))\n",
    "fig.add_subplot(211)\n",
    "plt.plot(epochs, acc, 'r', label='Training accuracy')\n",
    "plt.plot(epochs, val_acc, 'b', label='Validation accuracy')\n",
    "plt.title('Training and validation accuracy')\n",
    "plt.legend(loc=0)\n",
    "#plt.xlim(0,18)\n",
    "\n",
    "fig.add_subplot(212)\n",
    "plt.plot(epochs, loss, 'r', label='Training loss')\n",
    "plt.plot(epochs, val_loss, 'b', label='Validation loss')\n",
    "plt.title('Training and validation loss')\n",
    "plt.legend(loc=0)\n",
    "#plt.xlim(0,18)\n",
    "\n",
    "plt.show()"
   ]
  },
  {
   "cell_type": "code",
   "execution_count": null,
   "id": "1f8a2378",
   "metadata": {},
   "outputs": [],
   "source": []
  }
 ],
 "metadata": {
  "kernelspec": {
   "display_name": "Python 3 (ipykernel)",
   "language": "python",
   "name": "python3"
  },
  "language_info": {
   "codemirror_mode": {
    "name": "ipython",
    "version": 3
   },
   "file_extension": ".py",
   "mimetype": "text/x-python",
   "name": "python",
   "nbconvert_exporter": "python",
   "pygments_lexer": "ipython3",
   "version": "3.7.15"
  },
  "vscode": {
   "interpreter": {
    "hash": "c132790df729e3502fd28b4bf6c60536dc0c017f505e68cd7f4f8770fc76b394"
   }
  }
 },
 "nbformat": 4,
 "nbformat_minor": 5
}

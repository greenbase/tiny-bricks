{
 "cells": [
  {
   "cell_type": "code",
   "execution_count": 146,
   "id": "3bd0061d-2a4f-4f46-9ea5-115c5505dfcf",
   "metadata": {},
   "outputs": [],
   "source": [
    "import os\n",
    "import pandas as pd\n",
    "import tensorflow as tf\n",
    "import matplotlib.pyplot as plt"
   ]
  },
  {
   "cell_type": "markdown",
   "id": "f2ceb5ea-d911-4dde-859b-61175631b916",
   "metadata": {},
   "source": [
    "Variablen definieren:"
   ]
  },
  {
   "cell_type": "code",
   "execution_count": 147,
   "id": "cd147b58-bd19-4d5c-9e80-613391bc8c85",
   "metadata": {},
   "outputs": [],
   "source": [
    "path = '../data/raw/'\n",
    "filenames = os.listdir(path)\n",
    "filenames.remove('.gitkeep')\n",
    "image_size = (150, 150)\n",
    "val_split = 0.1\n",
    "batch_size = 150"
   ]
  },
  {
   "cell_type": "markdown",
   "id": "8d1e9478-03e8-418c-9a01-c77f65c0c91d",
   "metadata": {},
   "source": [
    "Funktionen:"
   ]
  },
  {
   "cell_type": "code",
   "execution_count": 148,
   "id": "76597b7a-52fe-4ea2-8cc4-c64fe1f6f7e3",
   "metadata": {},
   "outputs": [],
   "source": [
    "def get_label(string):\n",
    "    string  = ' '.join(string.split('/')[-1].replace('.png', '').split(' ')[0:-1])\n",
    "    return string\n"
   ]
  },
  {
   "cell_type": "code",
   "execution_count": 149,
   "id": "2b5b7419-c909-4a50-a5b1-cbbbd54b8c32",
   "metadata": {},
   "outputs": [],
   "source": [
    "def preprocessing(path, image_size, batch_size, val_split):\n",
    "    \"\"\"\n",
    "    path:       to directory that contains the image files,\n",
    "    val_split:  specified ratio of validation to training data (= percent of all images taken for validation)\n",
    "    image_size: of the images (after resizing by the data generator, needs to be the same in the model)\n",
    "    \n",
    "    returns training and validation DataGenerator\n",
    "    \"\"\"\n",
    "    filenames = os.listdir(path)\n",
    "    filenames.remove('.gitkeep')\n",
    "    df = pd.DataFrame(filenames, columns=['Filenames'])\n",
    "    \n",
    "    df['Label'] = df['Filenames'].apply(lambda x: get_label(x))\n",
    "    df = df.sample(frac=1,random_state=1).reset_index()\n",
    "    \n",
    "    datagen = tf.keras.preprocessing.image.ImageDataGenerator(validation_split = val_split,\n",
    "                                                              rescale=1./255,\n",
    "                                                              #rotation_range=40,\n",
    "                                                              #width_shift_range=0.2,\n",
    "                                                              #height_shift_range=0.2,\n",
    "                                                              #shear_range=0.2,\n",
    "                                                              #zoom_range=0.2,\n",
    "                                                              #horizontal_flip=True,\n",
    "                                                              #fill_mode='nearest')\n",
    "                                                             )\n",
    "    train_generator = datagen.flow_from_dataframe(df,\n",
    "                                              directory=path,\n",
    "                                              x_col='Filenames',\n",
    "                                              y_col='Label',\n",
    "                                              target_size=image_size,\n",
    "                                              batch_size=batch_size,\n",
    "                                              color_mode='grayscale',\n",
    "                                              class_mode='categorical',\n",
    "                                              subset='training',\n",
    "                                              )\n",
    "    validation_generator = datagen.flow_from_dataframe(df,\n",
    "                                              directory=path,\n",
    "                                              x_col='Filenames',\n",
    "                                              y_col='Label',\n",
    "                                              target_size=image_size,\n",
    "                                              batch_size=batch_size,\n",
    "                                              color_mode='grayscale',\n",
    "                                              class_mode='categorical',\n",
    "                                              subset='validation',\n",
    "                                              )\n",
    "    \n",
    "    return train_generator, validation_generator"
   ]
  },
  {
   "cell_type": "markdown",
   "id": "9db2c891-4df8-4ef0-b12c-e91027b54491",
   "metadata": {},
   "source": [
    "Preprocessing ausführen:"
   ]
  },
  {
   "cell_type": "code",
   "execution_count": 150,
   "id": "ef42c387-2159-4e05-ac0a-6bce338f2847",
   "metadata": {},
   "outputs": [
    {
     "name": "stdout",
     "output_type": "stream",
     "text": [
      "Found 36000 validated image filenames belonging to 50 classes.\n",
      "Found 4000 validated image filenames belonging to 50 classes.\n"
     ]
    }
   ],
   "source": [
    "train_generator, validation_generator = preprocessing(path, image_size, batch_size, val_split)"
   ]
  },
  {
   "cell_type": "markdown",
   "id": "9b32931c-5e69-42bc-9309-70c0122c8b0c",
   "metadata": {},
   "source": [
    "### Defining the baseline model\n",
    "Specify neccessary hyperparameters"
   ]
  },
  {
   "cell_type": "code",
   "execution_count": 151,
   "id": "9fb7d9ba-0b2d-4da7-8888-000360e410f2",
   "metadata": {},
   "outputs": [],
   "source": [
    "loss = 'categorical_crossentropy' \n",
    "learning_rate = 1e-4\n",
    "optimizer = tf.keras.optimizers.Adam()#learning_rate=learning_rate)\n",
    "\n",
    "kernels = 64\n",
    "kernel_size = (3,3)\n",
    "activation_conv = 'relu'\n",
    "activation_dense = 'softmax'\n",
    "neurons = 120\n",
    "\n",
    "input_shape = (150,150)"
   ]
  },
  {
   "cell_type": "markdown",
   "id": "4c5b083a-70f8-4a40-b293-5fe4e0de27af",
   "metadata": {},
   "source": [
    "#### Implement callback to stop when validation accuracy rises"
   ]
  },
  {
   "cell_type": "code",
   "execution_count": 152,
   "id": "03a0c58b-f99a-4c93-8f89-53350a79807d",
   "metadata": {},
   "outputs": [],
   "source": [
    "es_callback = tf.keras.callbacks.EarlyStopping(monitor='val_loss', patience=10, restore_best_weights=True)"
   ]
  },
  {
   "cell_type": "code",
   "execution_count": 153,
   "id": "2f428d4c-b52c-4e9d-87ae-267659a00fa8",
   "metadata": {},
   "outputs": [],
   "source": [
    "model = tf.keras.models.Sequential([\n",
    "    # Note the input shape is the desired size of the image 150x150 with 1 bytes color\n",
    "    # This is the first convolution\n",
    "    tf.keras.layers.Conv2D(kernels, kernel_size, activation=activation_conv, input_shape=(150, 150, 1)),\n",
    "    tf.keras.layers.MaxPooling2D(2, 2),\n",
    "    # Second convolution\n",
    "    tf.keras.layers.Conv2D(kernels, kernel_size, activation=activation_conv),\n",
    "    tf.keras.layers.MaxPooling2D(2, 2),\n",
    "    # Third convolution\n",
    "    tf.keras.layers.Conv2D(kernels, kernel_size, activation=activation_conv),\n",
    "    tf.keras.layers.MaxPooling2D(2, 2),\n",
    "    # Flatten the results to feed into a DNN\n",
    "    tf.keras.layers.Flatten(),\n",
    "    tf.keras.layers.Dropout(0.4),\n",
    "    # 512 neuron hidden layer\n",
    "    tf.keras.layers.Dense(neurons, activation=activation_conv),\n",
    "    tf.keras.layers.Dense(50, activation=activation_dense)\n",
    "])\n",
    "\n",
    "# Print the model summary\n",
    "#model.summary()"
   ]
  },
  {
   "cell_type": "code",
   "execution_count": 154,
   "id": "bc0d6eda-83f4-412b-98b7-a497653a2c44",
   "metadata": {},
   "outputs": [],
   "source": [
    "model.compile(loss=loss, optimizer=optimizer, metrics=['accuracy'])"
   ]
  },
  {
   "cell_type": "code",
   "execution_count": 155,
   "id": "e2def54f-bb61-4ec1-aa26-ba0fe0311cd5",
   "metadata": {},
   "outputs": [
    {
     "name": "stdout",
     "output_type": "stream",
     "text": [
      "Epoch 1/40\n",
      "20/20 [==============================] - 15s 710ms/step - loss: 3.5323 - accuracy: 0.0730 - val_loss: 3.0697 - val_accuracy: 0.1356\n",
      "Epoch 2/40\n",
      "20/20 [==============================] - 13s 662ms/step - loss: 2.8933 - accuracy: 0.1687 - val_loss: 2.5820 - val_accuracy: 0.2333\n",
      "Epoch 3/40\n",
      "20/20 [==============================] - 14s 693ms/step - loss: 2.5939 - accuracy: 0.2217 - val_loss: 2.5414 - val_accuracy: 0.2533\n",
      "Epoch 4/40\n",
      "20/20 [==============================] - 14s 685ms/step - loss: 2.3949 - accuracy: 0.2627 - val_loss: 2.3073 - val_accuracy: 0.3156\n",
      "Epoch 5/40\n",
      "20/20 [==============================] - 14s 681ms/step - loss: 2.2718 - accuracy: 0.2900 - val_loss: 2.2711 - val_accuracy: 0.2822\n",
      "Epoch 6/40\n",
      "20/20 [==============================] - 14s 682ms/step - loss: 2.1398 - accuracy: 0.3370 - val_loss: 2.2207 - val_accuracy: 0.3378\n",
      "Epoch 7/40\n",
      "20/20 [==============================] - 14s 683ms/step - loss: 2.0431 - accuracy: 0.3573 - val_loss: 2.1441 - val_accuracy: 0.3111\n",
      "Epoch 8/40\n",
      "20/20 [==============================] - 14s 684ms/step - loss: 2.0782 - accuracy: 0.3373 - val_loss: 2.0782 - val_accuracy: 0.3311\n",
      "Epoch 9/40\n",
      "20/20 [==============================] - 14s 701ms/step - loss: 2.0076 - accuracy: 0.3590 - val_loss: 1.9162 - val_accuracy: 0.3978\n",
      "Epoch 10/40\n",
      "20/20 [==============================] - 14s 683ms/step - loss: 1.9220 - accuracy: 0.3950 - val_loss: 1.9282 - val_accuracy: 0.4156\n",
      "Epoch 11/40\n",
      "20/20 [==============================] - 13s 661ms/step - loss: 1.9318 - accuracy: 0.3863 - val_loss: 1.9519 - val_accuracy: 0.3933\n",
      "Epoch 12/40\n",
      "20/20 [==============================] - 13s 659ms/step - loss: 1.8298 - accuracy: 0.4100 - val_loss: 1.8379 - val_accuracy: 0.4000\n",
      "Epoch 13/40\n",
      "20/20 [==============================] - 13s 644ms/step - loss: 1.7694 - accuracy: 0.4403 - val_loss: 1.8560 - val_accuracy: 0.4244\n",
      "Epoch 14/40\n",
      "20/20 [==============================] - 13s 645ms/step - loss: 1.7444 - accuracy: 0.4443 - val_loss: 1.8181 - val_accuracy: 0.4111\n",
      "Epoch 15/40\n",
      "20/20 [==============================] - 13s 654ms/step - loss: 1.6994 - accuracy: 0.4643 - val_loss: 1.7940 - val_accuracy: 0.4511\n",
      "Epoch 16/40\n",
      "20/20 [==============================] - 13s 646ms/step - loss: 1.6404 - accuracy: 0.4777 - val_loss: 1.7451 - val_accuracy: 0.4044\n",
      "Epoch 17/40\n",
      "20/20 [==============================] - 13s 643ms/step - loss: 1.5915 - accuracy: 0.4860 - val_loss: 1.8702 - val_accuracy: 0.4156\n",
      "Epoch 18/40\n",
      "20/20 [==============================] - 13s 643ms/step - loss: 1.5730 - accuracy: 0.4917 - val_loss: 1.7187 - val_accuracy: 0.4889\n",
      "Epoch 19/40\n",
      "20/20 [==============================] - 13s 648ms/step - loss: 1.5478 - accuracy: 0.5077 - val_loss: 1.6308 - val_accuracy: 0.4978\n",
      "Epoch 20/40\n",
      "20/20 [==============================] - 14s 670ms/step - loss: 1.5273 - accuracy: 0.5083 - val_loss: 1.6646 - val_accuracy: 0.4889\n",
      "Epoch 21/40\n",
      "20/20 [==============================] - 14s 671ms/step - loss: 1.4515 - accuracy: 0.5220 - val_loss: 1.6140 - val_accuracy: 0.4778\n",
      "Epoch 22/40\n",
      "20/20 [==============================] - 13s 662ms/step - loss: 1.4511 - accuracy: 0.5407 - val_loss: 1.6198 - val_accuracy: 0.4756\n",
      "Epoch 23/40\n",
      "20/20 [==============================] - 14s 670ms/step - loss: 1.4167 - accuracy: 0.5410 - val_loss: 1.6900 - val_accuracy: 0.4600\n",
      "Epoch 24/40\n",
      "20/20 [==============================] - 13s 661ms/step - loss: 1.3822 - accuracy: 0.5577 - val_loss: 1.5132 - val_accuracy: 0.4867\n",
      "Epoch 25/40\n",
      "20/20 [==============================] - 13s 624ms/step - loss: 1.3623 - accuracy: 0.5563 - val_loss: 1.5808 - val_accuracy: 0.4733\n",
      "Epoch 26/40\n",
      "20/20 [==============================] - 13s 654ms/step - loss: 1.3224 - accuracy: 0.5663 - val_loss: 1.5295 - val_accuracy: 0.4978\n",
      "Epoch 27/40\n",
      "20/20 [==============================] - 13s 640ms/step - loss: 1.2964 - accuracy: 0.5760 - val_loss: 1.4563 - val_accuracy: 0.5222\n",
      "Epoch 28/40\n",
      "20/20 [==============================] - 14s 666ms/step - loss: 1.2841 - accuracy: 0.5847 - val_loss: 1.3546 - val_accuracy: 0.5467\n",
      "Epoch 29/40\n",
      "20/20 [==============================] - 13s 652ms/step - loss: 1.2908 - accuracy: 0.5787 - val_loss: 1.4673 - val_accuracy: 0.5067\n",
      "Epoch 30/40\n",
      "20/20 [==============================] - 13s 661ms/step - loss: 1.1870 - accuracy: 0.6083 - val_loss: 1.3761 - val_accuracy: 0.5422\n",
      "Epoch 31/40\n",
      "20/20 [==============================] - 13s 653ms/step - loss: 1.1802 - accuracy: 0.6047 - val_loss: 1.4407 - val_accuracy: 0.5222\n",
      "Epoch 32/40\n",
      "20/20 [==============================] - 13s 654ms/step - loss: 1.1463 - accuracy: 0.6340 - val_loss: 1.1444 - val_accuracy: 0.6200\n",
      "Epoch 33/40\n",
      "20/20 [==============================] - 13s 651ms/step - loss: 1.1605 - accuracy: 0.6147 - val_loss: 1.3851 - val_accuracy: 0.5489\n",
      "Epoch 34/40\n",
      "20/20 [==============================] - 13s 652ms/step - loss: 1.1402 - accuracy: 0.6257 - val_loss: 1.2159 - val_accuracy: 0.6111\n",
      "Epoch 35/40\n",
      "20/20 [==============================] - 13s 650ms/step - loss: 1.1151 - accuracy: 0.6423 - val_loss: 1.3238 - val_accuracy: 0.5467\n",
      "Epoch 36/40\n",
      "20/20 [==============================] - 13s 651ms/step - loss: 1.1080 - accuracy: 0.6387 - val_loss: 1.2982 - val_accuracy: 0.5600\n",
      "Epoch 37/40\n",
      "20/20 [==============================] - 13s 654ms/step - loss: 1.0529 - accuracy: 0.6560 - val_loss: 1.2342 - val_accuracy: 0.5689\n",
      "Epoch 38/40\n",
      "20/20 [==============================] - 13s 655ms/step - loss: 1.0379 - accuracy: 0.6597 - val_loss: 1.3303 - val_accuracy: 0.5733\n",
      "Epoch 39/40\n",
      "20/20 [==============================] - 14s 667ms/step - loss: 0.9682 - accuracy: 0.6790 - val_loss: 1.1882 - val_accuracy: 0.6089\n",
      "Epoch 40/40\n",
      "20/20 [==============================] - 13s 654ms/step - loss: 0.9833 - accuracy: 0.6717 - val_loss: 1.3386 - val_accuracy: 0.5622\n"
     ]
    }
   ],
   "source": [
    "history2 = model.fit(train_generator, epochs=40, steps_per_epoch=20, validation_data=validation_generator, verbose = 1, validation_steps=3, callbacks=[es_callback])"
   ]
  },
  {
   "cell_type": "code",
   "execution_count": 156,
   "id": "32de601f-229e-45a0-9296-57b0b249366d",
   "metadata": {},
   "outputs": [
    {
     "data": {
      "image/png": "[encoded data removed]",
      "text/plain": [
       "<Figure size 500x800 with 2 Axes>"
      ]
     },
     "metadata": {},
     "output_type": "display_data"
    }
   ],
   "source": [
    "# Plot the results\n",
    "acc = history2.history['accuracy']\n",
    "val_acc = history2.history['val_accuracy']\n",
    "loss = history2.history['loss']\n",
    "val_loss = history2.history['val_loss']\n",
    "\n",
    "epochs = range(len(acc))\n",
    "\n",
    "fig = plt.figure(figsize=(5,8))\n",
    "fig.add_subplot(211)\n",
    "plt.plot(epochs, acc, 'r', label='Training accuracy')\n",
    "plt.plot(epochs, val_acc, 'b', label='Validation accuracy')\n",
    "plt.title('Training and validation accuracy')\n",
    "plt.legend(loc=0)\n",
    "\n",
    "fig.add_subplot(212)\n",
    "plt.plot(epochs, loss, 'r', label='Training loss')\n",
    "plt.plot(epochs, val_loss, 'b', label='Validation loss')\n",
    "plt.title('Training and validation loss')\n",
    "plt.legend(loc=0)\n",
    "\n",
    "#plt.savefig('/Users/tabea/Desktop/Accuracy_Loss_2Conv.png')\n",
    "plt.show()"
   ]
  },
  {
   "cell_type": "code",
   "execution_count": 157,
   "id": "ee6936b8-a1f7-4805-8b8c-bfdba8b070de",
   "metadata": {},
   "outputs": [
    {
     "ename": "NameError",
     "evalue": "name 'history' is not defined",
     "output_type": "error",
     "traceback": [
      "\u001b[1;31m---------------------------------------------------------------------------\u001b[0m",
      "\u001b[1;31mNameError\u001b[0m                                 Traceback (most recent call last)",
      "Cell \u001b[1;32mIn[157], line 2\u001b[0m\n\u001b[0;32m      1\u001b[0m \u001b[39m# Plot the results\u001b[39;00m\n\u001b[1;32m----> 2\u001b[0m acc \u001b[39m=\u001b[39m history\u001b[39m.\u001b[39mhistory[\u001b[39m'\u001b[39m\u001b[39maccuracy\u001b[39m\u001b[39m'\u001b[39m]\n\u001b[0;32m      3\u001b[0m val_acc \u001b[39m=\u001b[39m history\u001b[39m.\u001b[39mhistory[\u001b[39m'\u001b[39m\u001b[39mval_accuracy\u001b[39m\u001b[39m'\u001b[39m]\n\u001b[0;32m      4\u001b[0m loss \u001b[39m=\u001b[39m history\u001b[39m.\u001b[39mhistory[\u001b[39m'\u001b[39m\u001b[39mloss\u001b[39m\u001b[39m'\u001b[39m]\n",
      "\u001b[1;31mNameError\u001b[0m: name 'history' is not defined"
     ]
    }
   ],
   "source": [
    "# Plot the results\n",
    "acc = history.history['accuracy']\n",
    "val_acc = history.history['val_accuracy']\n",
    "loss = history.history['loss']\n",
    "val_loss = history.history['val_loss']\n",
    "\n",
    "epochs = range(len(acc))\n",
    "\n",
    "fig = plt.figure(figsize=(5,8))\n",
    "fig.add_subplot(211)\n",
    "plt.plot(epochs, acc, 'r', label='Training accuracy')\n",
    "plt.plot(epochs, val_acc, 'b', label='Validation accuracy')\n",
    "plt.title('Training and validation accuracy')\n",
    "plt.legend(loc=0)\n",
    "#plt.xlim(0,18)\n",
    "\n",
    "fig.add_subplot(212)\n",
    "plt.plot(epochs, loss, 'r', label='Training loss')\n",
    "plt.plot(epochs, val_loss, 'b', label='Validation loss')\n",
    "plt.title('Training and validation loss')\n",
    "plt.legend(loc=0)\n",
    "#plt.xlim(0,18)\n",
    "\n",
    "plt.show()"
   ]
  },
  {
   "cell_type": "code",
   "execution_count": null,
   "id": "16b62e96-a3b2-439c-bd22-ea18e2edb7b6",
   "metadata": {},
   "outputs": [
    {
     "data": {
      "text/plain": [
       "'/Users/tabea/Desktop/tiny-bricks/src'"
      ]
     },
     "execution_count": 139,
     "metadata": {},
     "output_type": "execute_result"
    }
   ],
   "source": [
    "pwd"
   ]
  },
  {
   "cell_type": "code",
   "execution_count": null,
   "id": "73bdba80-c44f-45ff-9ac5-40b5f1305710",
   "metadata": {},
   "outputs": [],
   "source": []
  }
 ],
 "metadata": {
  "kernelspec": {
   "display_name": "tiny-bricks",
   "language": "python",
   "name": "python3"
  },
  "language_info": {
   "codemirror_mode": {
    "name": "ipython",
    "version": 3
   },
   "file_extension": ".py",
   "mimetype": "text/x-python",
   "name": "python",
   "nbconvert_exporter": "python",
   "pygments_lexer": "ipython3",
   "version": "3.9.15"
  },
  "vscode": {
   "interpreter": {
    "hash": "c132790df729e3502fd28b4bf6c60536dc0c017f505e68cd7f4f8770fc76b394"
   }
  }
 },
 "nbformat": 4,
 "nbformat_minor": 5
}

{
 "cells": [
  {
   "cell_type": "code",
   "execution_count": null,
   "metadata": {},
   "outputs": [],
   "source": [
    "# Alle imports\n",
    "from model_building import build_model\n",
    "import keras_tuner\n"
   ]
  },
  {
   "cell_type": "code",
   "execution_count": null,
   "metadata": {},
   "outputs": [],
   "source": [
    "# Definiere Tuner\n",
    "# Der Tuner wählt Hyperparameter und verwendet diese um ein Model zu bauen.\n",
    "# Die Ergebnisse, inkl. des besten Model werden in den 'experiments' Ordner\n",
    "# geschrieben.\n",
    "\n",
    "# TODO wähle ggf. andere Tunerklasse\n",
    "tuner = keras_tuner.RandomSearch(\n",
    "    hypermodel=build_model,\n",
    "    objective=\"val_accuracy\",\n",
    "    max_trials=3,\n",
    "    executions_per_trial=1,\n",
    "    overwrite=True,\n",
    "    directory=\"../../experiments\",\n",
    "    project_name=\"Hyperparametertuning\",\n",
    ")\n",
    "\n",
    "# run tuner\n",
    "# The parameters passed to search() are passed to model.fit()\n",
    "# TODO add training and validation data\n",
    "tuner.search(, epoch=20, validation_data=)"
   ]
  },
  {
   "cell_type": "markdown",
   "metadata": {},
   "source": [
    "Imagegenerator kann die Bilder aus ihren Unterordner aus data/interim laden. Wenn möglich Bilder in schwarz/weiß und 150x150\n",
    "\n",
    "Eine Funktion kann die Outputs der Convolution-Layer visualisieren."
   ]
  }
 ],
 "metadata": {
  "kernelspec": {
   "display_name": "Python 3.10.4 ('toolbox')",
   "language": "python",
   "name": "python3"
  },
  "language_info": {
   "name": "python",
   "version": "3.10.4"
  },
  "orig_nbformat": 4,
  "vscode": {
   "interpreter": {
    "hash": "fbeb741a8c5d2e529be96d0980c26c68fdbaddad0c240d63854c3e2790e72141"
   }
  }
 },
 "nbformat": 4,
 "nbformat_minor": 2
}

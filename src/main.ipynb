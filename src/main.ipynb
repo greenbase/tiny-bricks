{
 "cells": [
  {
   "cell_type": "code",
   "execution_count": 1,
   "metadata": {},
   "outputs": [],
   "source": [
    "from model_building import build_model\n",
    "import keras_tuner\n",
    "import pandas as pd\n",
    "import os\n",
    "import tensorflow as tf\n",
    "from matplotlib import pyplot as plt\n",
    "from tensorflow.keras.utils import img_to_array, load_img\n",
    "import numpy as np\n",
    "import random"
   ]
  },
  {
   "cell_type": "markdown",
   "metadata": {},
   "source": [
    "Variablen definieren:"
   ]
  },
  {
   "cell_type": "code",
   "execution_count": 2,
   "metadata": {},
   "outputs": [],
   "source": [
    "path = '../data/raw/'\n",
    "filenames = os.listdir(path)\n",
    "filenames.remove('.gitkeep')\n",
    "image_size = (150, 150)\n",
    "val_split = 0.1\n",
    "test_split = 0.1\n",
    "batch_size = 64"
   ]
  },
  {
   "attachments": {},
   "cell_type": "markdown",
   "metadata": {},
   "source": [
    "Funktionen für die Bildverarbeitung und dem Laden der Daten:"
   ]
  },
  {
   "cell_type": "code",
   "execution_count": 3,
   "metadata": {},
   "outputs": [],
   "source": [
    "def get_label(string):\n",
    "    \"\"\"Returns the file name of `string` without parent dirs or suffix.\"\"\"\n",
    "    string  = ' '.join(string.split('/')[-1].replace('.png', '').split(' ')[0:-1])\n",
    "    return string\n"
   ]
  },
  {
   "cell_type": "code",
   "execution_count": 4,
   "metadata": {},
   "outputs": [],
   "source": [
    "def preprocessing(path, image_size, batch_size, val_split, test_split):\n",
    "    \"\"\"\n",
    "    Setup training-, validation- and testdata generators.\n",
    "\n",
    "    Reads data, assigns labels and performs data split before setting up the\n",
    "    generators.\n",
    "\n",
    "    Parameters\n",
    "    ----------\n",
    "    path : str\n",
    "        Path to directory that contains the image files.\n",
    "    image_size : tuple\n",
    "        Size of the images (after resizing by the data generator, needs to be\n",
    "        the same in the model).\n",
    "    batch_size : int\n",
    "        Batch size used by generators.\n",
    "    val_split : float\n",
    "        Specified ratio of validation data taken from the entire data set.\n",
    "    test_split : float\n",
    "        Specified ratio of test data taken from the entire data set.\n",
    "\n",
    "    Returns\n",
    "    -------\n",
    "    train_generator, validation_generator, test_generator\n",
    "    \"\"\"\n",
    "    # build dataframe with paths of images and labels\n",
    "    filenames = os.listdir(path)\n",
    "    filenames.remove('.gitkeep')\n",
    "    df = pd.DataFrame(filenames, columns=['Filenames'])\n",
    "    df['Label'] = df['Filenames'].apply(lambda x: get_label(x))\n",
    "\n",
    "    # shuffle data and split (train, val, test)\n",
    "    images_total = df.shape[0]\n",
    "    val_size = int(images_total * val_split)\n",
    "    test_size = int(images_total * test_split)\n",
    "\n",
    "    df_val = df.sample(val_size, random_state=42)\n",
    "    df = df.drop(df_val.index)\n",
    "\n",
    "    df_test = df.sample(test_size, random_state=42)\n",
    "    df = df.drop(df_test.index)\n",
    "    df_train = df\n",
    "    \n",
    "    # setup data generators\n",
    "    datagen_train = tf.keras.preprocessing.image.ImageDataGenerator(rescale=1./255)\n",
    "    train_generator = datagen_train.flow_from_dataframe(df_train,\n",
    "                                              directory=path,\n",
    "                                              x_col='Filenames',\n",
    "                                              y_col='Label',\n",
    "                                              target_size=image_size,\n",
    "                                              batch_size= batch_size,\n",
    "                                              color_mode='grayscale',\n",
    "                                              class_mode='categorical',\n",
    "                                              )\n",
    "    datagen_val = tf.keras.preprocessing.image.ImageDataGenerator(rescale=1./255)                                          \n",
    "    validation_generator = datagen_val.flow_from_dataframe(df_val,\n",
    "                                              directory=path,\n",
    "                                              x_col='Filenames',\n",
    "                                              y_col='Label',\n",
    "                                              target_size=image_size,\n",
    "                                              batch_size=batch_size,\n",
    "                                              color_mode='grayscale',\n",
    "                                              class_mode='categorical',\n",
    "                                              )\n",
    "\n",
    "    datagen_test = tf.keras.preprocessing.image.ImageDataGenerator(rescale=1./255.)\n",
    "    test_generator = datagen_test.flow_from_dataframe(df_test,\n",
    "                                              directory=path,\n",
    "                                              x_col='Filenames',\n",
    "                                              y_col='Label',\n",
    "                                              target_size=image_size,\n",
    "                                              batch_size=batch_size,\n",
    "                                              color_mode='grayscale',\n",
    "                                              class_mode='categorical',\n",
    "                                              shuffle=False)\n",
    "    \n",
    "    return train_generator, validation_generator, test_generator"
   ]
  },
  {
   "cell_type": "markdown",
   "metadata": {},
   "source": [
    "Preprocessing ausführen:"
   ]
  },
  {
   "cell_type": "code",
   "execution_count": 5,
   "metadata": {},
   "outputs": [
    {
     "name": "stdout",
     "output_type": "stream",
     "text": [
      "Found 32000 validated image filenames belonging to 50 classes.\n",
      "Found 4000 validated image filenames belonging to 50 classes.\n",
      "Found 4000 validated image filenames belonging to 50 classes.\n"
     ]
    }
   ],
   "source": [
    "train_generator, validation_generator, test_generator = preprocessing(path, image_size,batch_size, val_split, test_split)"
   ]
  },
  {
   "cell_type": "markdown",
   "metadata": {},
   "source": [
    "Random Beispielbild anzeigen:"
   ]
  },
  {
   "cell_type": "code",
   "execution_count": 6,
   "metadata": {},
   "outputs": [
    {
     "name": "stdout",
     "output_type": "stream",
     "text": [
      "Sample image:\n"
     ]
    },
    {
     "data": {
      "image/png": "[encoded data removed]",
      "text/plain": [
       "<Figure size 640x480 with 1 Axes>"
      ]
     },
     "metadata": {},
     "output_type": "display_data"
    }
   ],
   "source": [
    "print(\"Sample image:\")\n",
    "img_files = [os.path.join(path, f) for f in filenames]\n",
    "img_path = random.choice(img_files)\n",
    "img = load_img(img_path, target_size=image_size)\n",
    "plt.imshow(img)\n",
    "plt.show()"
   ]
  },
  {
   "attachments": {},
   "cell_type": "markdown",
   "metadata": {},
   "source": [
    "## Hyperparameter Tuning \n",
    "Der Tuner wählt Hyperparameter und verwendet diese um verschiedene Modele zu bauen. Jedes Model wird trainiert und seine Performance bewertet. Das Model mit der besten Performance – und damit mit den besten Hyperparametern – wird abgespeichert.\n",
    "Das Hyperparametergitter wird in mehreren Schritt verfeinert. Als Ausgangspunkt dienen die Hyperparameter des Baseline-Models."
   ]
  },
  {
   "cell_type": "code",
   "execution_count": 7,
   "metadata": {},
   "outputs": [
    {
     "name": "stdout",
     "output_type": "stream",
     "text": [
      "Trial 5 Complete [00h 03m 01s]\n",
      "val_accuracy: 0.5234375\n",
      "\n",
      "Best val_accuracy So Far: 0.65625\n",
      "Total elapsed time: 00h 15m 24s\n",
      "INFO:tensorflow:Oracle triggered exit\n"
     ]
    },
    {
     "name": "stderr",
     "output_type": "stream",
     "text": [
      "WARNING:absl:Found untraced functions such as _jit_compiled_convolution_op, _jit_compiled_convolution_op, _jit_compiled_convolution_op while saving (showing 3 of 3). These functions will not be directly callable after loading.\n"
     ]
    },
    {
     "name": "stdout",
     "output_type": "stream",
     "text": [
      "INFO:tensorflow:Assets written to: ../models/saved_model\\assets\n"
     ]
    },
    {
     "name": "stderr",
     "output_type": "stream",
     "text": [
      "INFO:tensorflow:Assets written to: ../models/saved_model\\assets\n"
     ]
    }
   ],
   "source": [
    "tuner = keras_tuner.RandomSearch(\n",
    "    hypermodel=build_model,\n",
    "    objective=\"val_accuracy\",\n",
    "    max_trials=5,\n",
    "    executions_per_trial=1,\n",
    "    overwrite=True,\n",
    "    directory=\"../experiments\",\n",
    "    project_name=\"Hyperparametertuning\",\n",
    ")\n",
    "\n",
    "# run tuner\n",
    "# The parameters passed to search() are the same as passed to model.fit()\n",
    "tuner.search(train_generator,\n",
    "             validation_data = validation_generator,\n",
    "             epochs = 3,\n",
    "             steps_per_epoch = None,\n",
    "             validation_steps= 2\n",
    "            )\n",
    "best_model = tuner.get_best_models(num_models=1)[0]\n",
    "best_model.save(f\"../models/saved_model\")"
   ]
  },
  {
   "attachments": {},
   "cell_type": "markdown",
   "metadata": {},
   "source": [
    "## Retraining\n",
    "Now the best model found during hyperparameter tuning is trained extensively.\n",
    "The model is cloned to start with randomly initiated weights."
   ]
  },
  {
   "cell_type": "code",
   "execution_count": 8,
   "metadata": {},
   "outputs": [
    {
     "name": "stdout",
     "output_type": "stream",
     "text": [
      "Epoch 1/20\n",
      "500/500 [==============================] - 64s 125ms/step - loss: 2.4525 - accuracy: 0.2643 - val_loss: 1.7998 - val_accuracy: 0.4328\n",
      "Epoch 2/20\n",
      "500/500 [==============================] - 63s 125ms/step - loss: 1.6398 - accuracy: 0.4613 - val_loss: 1.4185 - val_accuracy: 0.5229\n",
      "Epoch 3/20\n",
      "500/500 [==============================] - 64s 129ms/step - loss: 1.2640 - accuracy: 0.5717 - val_loss: 1.2639 - val_accuracy: 0.5661\n",
      "Epoch 4/20\n",
      "500/500 [==============================] - 64s 127ms/step - loss: 0.9985 - accuracy: 0.6522 - val_loss: 1.1602 - val_accuracy: 0.6089\n",
      "Epoch 5/20\n",
      "500/500 [==============================] - 63s 126ms/step - loss: 0.8003 - accuracy: 0.7164 - val_loss: 1.0774 - val_accuracy: 0.6307\n",
      "Epoch 6/20\n",
      "500/500 [==============================] - 64s 128ms/step - loss: 0.6462 - accuracy: 0.7645 - val_loss: 1.1974 - val_accuracy: 0.6359\n",
      "Epoch 7/20\n",
      "500/500 [==============================] - 65s 130ms/step - loss: 0.5167 - accuracy: 0.8105 - val_loss: 1.2440 - val_accuracy: 0.6479\n",
      "Epoch 8/20\n",
      "500/500 [==============================] - 69s 137ms/step - loss: 0.4192 - accuracy: 0.8431 - val_loss: 1.2637 - val_accuracy: 0.6505\n",
      "Epoch 9/20\n",
      "500/500 [==============================] - 67s 133ms/step - loss: 0.3456 - accuracy: 0.8715 - val_loss: 1.4153 - val_accuracy: 0.6557\n",
      "Epoch 10/20\n",
      "500/500 [==============================] - 66s 132ms/step - loss: 0.2853 - accuracy: 0.8950 - val_loss: 1.4574 - val_accuracy: 0.6411\n",
      "Epoch 11/20\n",
      "500/500 [==============================] - 64s 129ms/step - loss: 0.2407 - accuracy: 0.9112 - val_loss: 1.4790 - val_accuracy: 0.6500\n",
      "Epoch 12/20\n",
      "500/500 [==============================] - 67s 135ms/step - loss: 0.2098 - accuracy: 0.9224 - val_loss: 1.7205 - val_accuracy: 0.6547\n",
      "Epoch 13/20\n",
      "500/500 [==============================] - 67s 133ms/step - loss: 0.1765 - accuracy: 0.9365 - val_loss: 1.8455 - val_accuracy: 0.6328\n",
      "Epoch 14/20\n",
      "500/500 [==============================] - 67s 134ms/step - loss: 0.1548 - accuracy: 0.9441 - val_loss: 1.8007 - val_accuracy: 0.6474\n",
      "Epoch 15/20\n",
      "500/500 [==============================] - 68s 135ms/step - loss: 0.1427 - accuracy: 0.9499 - val_loss: 1.9561 - val_accuracy: 0.6432\n",
      "Epoch 16/20\n",
      "500/500 [==============================] - 66s 131ms/step - loss: 0.1281 - accuracy: 0.9558 - val_loss: 2.0669 - val_accuracy: 0.6318\n",
      "Epoch 17/20\n",
      "500/500 [==============================] - 64s 128ms/step - loss: 0.1185 - accuracy: 0.9597 - val_loss: 2.2662 - val_accuracy: 0.6536\n",
      "Epoch 18/20\n",
      "500/500 [==============================] - 65s 129ms/step - loss: 0.1076 - accuracy: 0.9621 - val_loss: 2.1130 - val_accuracy: 0.6630\n",
      "Epoch 19/20\n",
      "500/500 [==============================] - 64s 128ms/step - loss: 0.0975 - accuracy: 0.9666 - val_loss: 2.2999 - val_accuracy: 0.6432\n",
      "Epoch 20/20\n",
      "500/500 [==============================] - 63s 126ms/step - loss: 0.0941 - accuracy: 0.9674 - val_loss: 2.2515 - val_accuracy: 0.6323\n"
     ]
    }
   ],
   "source": [
    "model_name = \"saved_model\"\n",
    "model = tf.keras.models.load_model(\"../models/\" + model_name)\n",
    "clone = tf.keras.models.clone_model(model) # copy model with reset weights\n",
    "clone.compile(\n",
    "       optimizer = \"adam\",\n",
    "       loss = \"categorical_crossentropy\",\n",
    "       metrics = \"accuracy\"\n",
    "   )\n",
    "history = clone.fit(train_generator, validation_data=validation_generator, epochs=20, steps_per_epoch=None, validation_steps=30) "
   ]
  },
  {
   "cell_type": "code",
   "execution_count": 9,
   "metadata": {},
   "outputs": [
    {
     "data": {
      "image/png": "[encoded data removed]",
      "text/plain": [
       "<Figure size 500x800 with 2 Axes>"
      ]
     },
     "metadata": {},
     "output_type": "display_data"
    }
   ],
   "source": [
    "# Plot the results\n",
    "acc = history.history['accuracy']\n",
    "val_acc = history.history['val_accuracy']\n",
    "loss = history.history['loss']\n",
    "val_loss = history.history['val_loss']\n",
    "\n",
    "epochs = range(len(acc))\n",
    "\n",
    "fig = plt.figure(figsize=(5,8))\n",
    "fig.add_subplot(211)\n",
    "plt.plot(epochs, acc, 'r', label='Training accuracy')\n",
    "plt.plot(epochs, val_acc, 'b', label='Validation accuracy')\n",
    "plt.title('Training and validation accuracy')\n",
    "plt.legend(loc=0)\n",
    "\n",
    "fig.add_subplot(212)\n",
    "plt.plot(epochs, loss, 'r', label='Training loss')\n",
    "plt.plot(epochs, val_loss, 'b', label='Validation loss')\n",
    "plt.title('Training and validation loss')\n",
    "plt.legend(loc=0)\n",
    "\n",
    "plt.show()"
   ]
  },
  {
   "cell_type": "code",
   "execution_count": 10,
   "metadata": {},
   "outputs": [
    {
     "name": "stdout",
     "output_type": "stream",
     "text": [
      "63/63 [==============================] - 8s 127ms/step - loss: 1.2376 - accuracy: 0.5780\n"
     ]
    },
    {
     "data": {
      "text/plain": [
       "[1.2375515699386597, 0.578000009059906]"
      ]
     },
     "execution_count": 10,
     "metadata": {},
     "output_type": "execute_result"
    }
   ],
   "source": [
    "model.evaluate(test_generator)"
   ]
  },
  {
   "cell_type": "code",
   "execution_count": 11,
   "metadata": {},
   "outputs": [
    {
     "name": "stderr",
     "output_type": "stream",
     "text": [
      "WARNING:absl:Found untraced functions such as _jit_compiled_convolution_op, _jit_compiled_convolution_op, _jit_compiled_convolution_op while saving (showing 3 of 3). These functions will not be directly callable after loading.\n"
     ]
    },
    {
     "name": "stdout",
     "output_type": "stream",
     "text": [
      "INFO:tensorflow:Assets written to: ../models/57%\\assets\n"
     ]
    },
    {
     "name": "stderr",
     "output_type": "stream",
     "text": [
      "INFO:tensorflow:Assets written to: ../models/57%\\assets\n"
     ]
    }
   ],
   "source": [
    "model.save(f\"../models/57%\")"
   ]
  },
  {
   "attachments": {},
   "cell_type": "markdown",
   "metadata": {},
   "source": [
    "## Test Model on real Images"
   ]
  },
  {
   "cell_type": "code",
   "execution_count": 231,
   "metadata": {},
   "outputs": [],
   "source": [
    "model= tf.keras.models.load_model(\"../models/57%\")"
   ]
  },
  {
   "cell_type": "code",
   "execution_count": 234,
   "metadata": {},
   "outputs": [
    {
     "data": {
      "image/png": "[encoded data removed]",
      "text/plain": [
       "<PIL.Image.Image image mode=L size=150x150>"
      ]
     },
     "execution_count": 234,
     "metadata": {},
     "output_type": "execute_result"
    }
   ],
   "source": [
    "\n",
    "from PIL import Image, ImageOps\n",
    "import numpy as np\n",
    "from skimage import transform\n",
    "\n",
    "def load(filename):\n",
    "   \"\"\"Load grayscaled image from specified path.\"\"\"\n",
    "   image = Image.open(filename).convert(\"L\")\n",
    "   image = ImageOps.fit(image,(150,150))\n",
    "   return image\n",
    "\n",
    "image = load('../data/external/2x1_2_squared.png')\n",
    "image"
   ]
  },
  {
   "cell_type": "code",
   "execution_count": 250,
   "metadata": {},
   "outputs": [
    {
     "name": "stdout",
     "output_type": "stream",
     "text": [
      "1/1 [==============================] - 0s 21ms/step\n"
     ]
    },
    {
     "data": {
      "text/plain": [
       "'3069 Flat Tile 1x2'"
      ]
     },
     "execution_count": 250,
     "metadata": {},
     "output_type": "execute_result"
    }
   ],
   "source": [
    "# prepare image to fit model input\n",
    "image = np.array(image)\n",
    "image = image.reshape((150, 150, 1))\n",
    "image = image/255\n",
    "image = np.expand_dims(image, axis=0)\n",
    "\n",
    "# predict image\n",
    "prediction = model.predict(image)\n",
    "index_class_predicted = np.argmax(prediction)\n",
    "keys=list(validation_generator.class_indices.keys())\n",
    "class_predicted = keys[index_class_predicted]\n",
    "class_predicted"
   ]
  },
  {
   "cell_type": "code",
   "execution_count": 251,
   "metadata": {},
   "outputs": [
    {
     "name": "stdout",
     "output_type": "stream",
     "text": [
      "Model: \"sequential\"\n",
      "_________________________________________________________________\n",
      " Layer (type)                Output Shape              Param #   \n",
      "=================================================================\n",
      " conv2d (Conv2D)             (None, 149, 149, 64)      320       \n",
      "                                                                 \n",
      " max_pooling2d (MaxPooling2D  (None, 74, 74, 64)       0         \n",
      " )                                                               \n",
      "                                                                 \n",
      " conv2d_1 (Conv2D)           (None, 73, 73, 56)        14392     \n",
      "                                                                 \n",
      " conv2d_2 (Conv2D)           (None, 72, 72, 64)        14400     \n",
      "                                                                 \n",
      " max_pooling2d_1 (MaxPooling  (None, 36, 36, 64)       0         \n",
      " 2D)                                                             \n",
      "                                                                 \n",
      " flatten (Flatten)           (None, 82944)             0         \n",
      "                                                                 \n",
      " dense (Dense)               (None, 80)                6635600   \n",
      "                                                                 \n",
      " dense_1 (Dense)             (None, 90)                7290      \n",
      "                                                                 \n",
      " dropout (Dropout)           (None, 90)                0         \n",
      "                                                                 \n",
      " dense_2 (Dense)             (None, 50)                4550      \n",
      "                                                                 \n",
      "=================================================================\n",
      "Total params: 6,676,552\n",
      "Trainable params: 6,676,552\n",
      "Non-trainable params: 0\n",
      "_________________________________________________________________\n"
     ]
    }
   ],
   "source": [
    "model.summary()"
   ]
  }
 ],
 "metadata": {
  "kernelspec": {
   "display_name": "tiny-bricks",
   "language": "python",
   "name": "python3"
  },
  "language_info": {
   "codemirror_mode": {
    "name": "ipython",
    "version": 3
   },
   "file_extension": ".py",
   "mimetype": "text/x-python",
   "name": "python",
   "nbconvert_exporter": "python",
   "pygments_lexer": "ipython3",
   "version": "3.9.15"
  },
  "vscode": {
   "interpreter": {
    "hash": "c132790df729e3502fd28b4bf6c60536dc0c017f505e68cd7f4f8770fc76b394"
   }
  }
 },
 "nbformat": 4,
 "nbformat_minor": 2
}

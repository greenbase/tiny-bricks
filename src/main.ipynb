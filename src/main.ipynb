{
 "cells": [
  {
   "cell_type": "code",
   "execution_count": 1,
   "metadata": {},
   "outputs": [],
   "source": [
    "from model_building import build_model\n",
    "import keras_tuner\n",
    "import pandas as pd\n",
    "import os\n",
    "import tensorflow as tf\n",
    "from matplotlib import pyplot as plt\n",
    "from tensorflow.keras.utils import img_to_array, load_img\n",
    "import numpy as np\n",
    "import random"
   ]
  },
  {
   "cell_type": "markdown",
   "metadata": {},
   "source": [
    "Variablen definieren:"
   ]
  },
  {
   "cell_type": "code",
   "execution_count": 2,
   "metadata": {},
   "outputs": [],
   "source": [
    "path = '../data/raw/'\n",
    "filenames = os.listdir(path)\n",
    "filenames.remove('.gitkeep')\n",
    "image_size = (150, 150)\n",
    "val_split = 0.1\n",
    "test_split = 0.1\n",
    "batch_size = 64"
   ]
  },
  {
   "attachments": {},
   "cell_type": "markdown",
   "metadata": {},
   "source": [
    "Funktionen für die Bildverarbeitung und dem Laden der Daten:"
   ]
  },
  {
   "cell_type": "code",
   "execution_count": 3,
   "metadata": {},
   "outputs": [],
   "source": [
    "def get_label(string):\n",
    "    \"\"\"Returns the file name of `string` without parent dirs or suffix.\"\"\"\n",
    "    string  = ' '.join(string.split('/')[-1].replace('.png', '').split(' ')[0:-1])\n",
    "    return string\n"
   ]
  },
  {
   "cell_type": "code",
   "execution_count": 4,
   "metadata": {},
   "outputs": [],
   "source": [
    "def preprocessing(path, image_size, batch_size, val_split, test_split):\n",
    "    \"\"\"\n",
    "    Setup training-, validation- and testdata generators.\n",
    "\n",
    "    Reads data, assigns labels and performs data split before setting up the\n",
    "    generators.\n",
    "\n",
    "    Parameters\n",
    "    ----------\n",
    "    path : str\n",
    "        Path to directory that contains the image files.\n",
    "    image_size : tuple\n",
    "        Size of the images (after resizing by the data generator, needs to be\n",
    "        the same in the model).\n",
    "    batch_size : int\n",
    "        Batch size used by generators.\n",
    "    val_split : float\n",
    "        Specified ratio of validation data taken from the entire data set.\n",
    "    test_split : float\n",
    "        Specified ratio of test data taken from the entire data set.\n",
    "\n",
    "    Returns\n",
    "    -------\n",
    "    train_generator, validation_generator, test_generator\n",
    "    \"\"\"\n",
    "    # build dataframe with paths of images and labels\n",
    "    filenames = os.listdir(path)\n",
    "    filenames.remove('.gitkeep')\n",
    "    df = pd.DataFrame(filenames, columns=['Filenames'])\n",
    "    df['Label'] = df['Filenames'].apply(lambda x: get_label(x))\n",
    "\n",
    "    # shuffle data and split (train, val, test)\n",
    "    images_total = df.shape[0]\n",
    "    val_size = int(images_total * val_split)\n",
    "    test_size = int(images_total * test_split)\n",
    "\n",
    "    df_val = df.sample(val_size, random_state=42)\n",
    "    df = df.drop(df_val.index)\n",
    "\n",
    "    df_test = df.sample(test_size, random_state=42)\n",
    "    df = df.drop(df_test.index)\n",
    "    df_train = df\n",
    "    \n",
    "    # setup data generators\n",
    "    datagen_train = tf.keras.preprocessing.image.ImageDataGenerator(rescale=1./255)\n",
    "    train_generator = datagen_train.flow_from_dataframe(df_train,\n",
    "                                              directory=path,\n",
    "                                              x_col='Filenames',\n",
    "                                              y_col='Label',\n",
    "                                              target_size=image_size,\n",
    "                                              batch_size= batch_size,\n",
    "                                              color_mode='grayscale',\n",
    "                                              class_mode='categorical',\n",
    "                                              )\n",
    "    datagen_val = tf.keras.preprocessing.image.ImageDataGenerator(rescale=1./255)                                          \n",
    "    validation_generator = datagen_val.flow_from_dataframe(df_val,\n",
    "                                              directory=path,\n",
    "                                              x_col='Filenames',\n",
    "                                              y_col='Label',\n",
    "                                              target_size=image_size,\n",
    "                                              batch_size=batch_size,\n",
    "                                              color_mode='grayscale',\n",
    "                                              class_mode='categorical',\n",
    "                                              )\n",
    "\n",
    "    datagen_test = tf.keras.preprocessing.image.ImageDataGenerator(rescale=1./255.)\n",
    "    test_generator = datagen_test.flow_from_dataframe(df_test,\n",
    "                                              directory=path,\n",
    "                                              x_col='Filenames',\n",
    "                                              y_col='Label',\n",
    "                                              target_size=image_size,\n",
    "                                              batch_size=batch_size,\n",
    "                                              color_mode='grayscale',\n",
    "                                              class_mode='categorical',\n",
    "                                              shuffle=False)\n",
    "    \n",
    "    return train_generator, validation_generator, test_generator"
   ]
  },
  {
   "cell_type": "markdown",
   "metadata": {},
   "source": [
    "Preprocessing ausführen:"
   ]
  },
  {
   "cell_type": "code",
   "execution_count": 5,
   "metadata": {},
   "outputs": [
    {
     "name": "stdout",
     "output_type": "stream",
     "text": [
      "Found 32000 validated image filenames belonging to 50 classes.\n",
      "Found 4000 validated image filenames belonging to 50 classes.\n",
      "Found 4000 validated image filenames belonging to 50 classes.\n"
     ]
    }
   ],
   "source": [
    "train_generator, validation_generator, test_generator = preprocessing(path, image_size,batch_size, val_split, test_split)"
   ]
  },
  {
   "cell_type": "markdown",
   "metadata": {},
   "source": [
    "Random Beispielbild anzeigen:"
   ]
  },
  {
   "cell_type": "code",
   "execution_count": 6,
   "metadata": {},
   "outputs": [
    {
     "name": "stdout",
     "output_type": "stream",
     "text": [
      "Sample image:\n"
     ]
    },
    {
     "data": {
      "image/png": "[encoded data removed]",
      "text/plain": [
       "<Figure size 640x480 with 1 Axes>"
      ]
     },
     "metadata": {},
     "output_type": "display_data"
    }
   ],
   "source": [
    "print(\"Sample image:\")\n",
    "img_files = [os.path.join(path, f) for f in filenames]\n",
    "img_path = random.choice(img_files)\n",
    "img = load_img(img_path, target_size=image_size)\n",
    "plt.imshow(img)\n",
    "plt.show()"
   ]
  },
  {
   "attachments": {},
   "cell_type": "markdown",
   "metadata": {},
   "source": [
    "## Hyperparameter Tuning \n",
    "Der Tuner wählt Hyperparameter und verwendet diese um verschiedene Modele zu bauen. Jedes Model wird trainiert und seine Performance bewertet. Das Model mit der besten Performance – und damit mit den besten Hyperparametern – wird abgespeichert.\n",
    "Das Hyperparametergitter wird in mehreren Schritt verfeinert. Als Ausgangspunkt dienen die Hyperparameter des Baseline-Models."
   ]
  },
  {
   "cell_type": "code",
   "execution_count": 7,
   "metadata": {},
   "outputs": [
    {
     "name": "stdout",
     "output_type": "stream",
     "text": [
      "Trial 5 Complete [00h 03m 01s]\n",
      "val_accuracy: 0.5234375\n",
      "\n",
      "Best val_accuracy So Far: 0.65625\n",
      "Total elapsed time: 00h 15m 24s\n",
      "INFO:tensorflow:Oracle triggered exit\n"
     ]
    },
    {
     "name": "stderr",
     "output_type": "stream",
     "text": [
      "WARNING:absl:Found untraced functions such as _jit_compiled_convolution_op, _jit_compiled_convolution_op, _jit_compiled_convolution_op while saving (showing 3 of 3). These functions will not be directly callable after loading.\n"
     ]
    },
    {
     "name": "stdout",
     "output_type": "stream",
     "text": [
      "INFO:tensorflow:Assets written to: ../models/saved_model\\assets\n"
     ]
    },
    {
     "name": "stderr",
     "output_type": "stream",
     "text": [
      "INFO:tensorflow:Assets written to: ../models/saved_model\\assets\n"
     ]
    }
   ],
   "source": [
    "tuner = keras_tuner.RandomSearch(\n",
    "    hypermodel=build_model,\n",
    "    objective=\"val_accuracy\",\n",
    "    max_trials=5,\n",
    "    executions_per_trial=1,\n",
    "    overwrite=True,\n",
    "    directory=\"../experiments\",\n",
    "    project_name=\"Hyperparametertuning\",\n",
    ")\n",
    "\n",
    "# run tuner\n",
    "# The parameters passed to search() are the same as passed to model.fit()\n",
    "tuner.search(train_generator,\n",
    "             validation_data = validation_generator,\n",
    "             epochs = 3,\n",
    "             steps_per_epoch = None,\n",
    "             validation_steps= 2\n",
    "            )\n",
    "best_model = tuner.get_best_models(num_models=1)[0]\n",
    "best_model.save(f\"../models/saved_model\")"
   ]
  },
  {
   "attachments": {},
   "cell_type": "markdown",
   "metadata": {},
   "source": [
    "## Retraining\n",
    "Now the best model found during hyperparameter tuning is trained extensively.\n",
    "The model is cloned to start with randomly initiated weights."
   ]
  },
  {
   "attachments": {},
   "cell_type": "markdown",
   "metadata": {},
   "source": [
    "> Note\n",
    "> \n",
    "> Due to problems loading the model saved by the tuner it is recreated here manually."
   ]
  },
  {
   "cell_type": "code",
   "execution_count": 38,
   "metadata": {},
   "outputs": [],
   "source": [
    "model = tf.keras.Sequential([\n",
    "    tf.keras.layers.Conv2D(64,2, activation=\"relu\", input_shape=(150,150,1)),\n",
    "    tf.keras.layers.MaxPooling2D((2,2)),\n",
    "    tf.keras.layers.Conv2D(56, 2, activation=\"relu\"),\n",
    "    tf.keras.layers.Conv2D(64, 2, activation=\"relu\"),\n",
    "    tf.keras.layers.MaxPooling2D((2,2)),\n",
    "    tf.keras.layers.Flatten(),\n",
    "    tf.keras.layers.Dense(units=80, activation=\"relu\"),\n",
    "    tf.keras.layers.Dense(units=90, activation=\"relu\"),\n",
    "    tf.keras.layers.Dropout(rate=0.25),\n",
    "    tf.keras.layers.Dense(50, activation=\"softmax\"),\n",
    "])"
   ]
  },
  {
   "cell_type": "code",
   "execution_count": 40,
   "metadata": {},
   "outputs": [
    {
     "name": "stdout",
     "output_type": "stream",
     "text": [
      "Epoch 1/20\n",
      "500/500 [==============================] - 90s 164ms/step - loss: 2.4187 - accuracy: 0.2769 - val_loss: 1.7383 - val_accuracy: 0.4333\n",
      "Epoch 2/20\n",
      "500/500 [==============================] - 70s 139ms/step - loss: 1.6682 - accuracy: 0.4535 - val_loss: 1.4903 - val_accuracy: 0.4984\n",
      "Epoch 3/20\n",
      "500/500 [==============================] - 69s 138ms/step - loss: 1.3079 - accuracy: 0.5589 - val_loss: 1.2786 - val_accuracy: 0.5813\n",
      "Epoch 4/20\n",
      "500/500 [==============================] - 68s 135ms/step - loss: 1.0401 - accuracy: 0.6413 - val_loss: 1.0682 - val_accuracy: 0.6276\n",
      "Epoch 5/20\n",
      "500/500 [==============================] - 68s 136ms/step - loss: 0.8303 - accuracy: 0.7075 - val_loss: 1.1441 - val_accuracy: 0.6266\n",
      "Epoch 6/20\n",
      "500/500 [==============================] - 70s 140ms/step - loss: 0.6685 - accuracy: 0.7577 - val_loss: 1.0789 - val_accuracy: 0.6542\n",
      "Epoch 7/20\n",
      "500/500 [==============================] - 68s 135ms/step - loss: 0.5436 - accuracy: 0.8041 - val_loss: 1.1676 - val_accuracy: 0.6490\n",
      "Epoch 8/20\n",
      "500/500 [==============================] - 67s 135ms/step - loss: 0.4384 - accuracy: 0.8384 - val_loss: 1.1532 - val_accuracy: 0.6641\n",
      "Epoch 9/20\n",
      "500/500 [==============================] - 69s 139ms/step - loss: 0.3701 - accuracy: 0.8671 - val_loss: 1.2422 - val_accuracy: 0.6740\n",
      "Epoch 10/20\n",
      "500/500 [==============================] - 70s 141ms/step - loss: 0.2977 - accuracy: 0.8911 - val_loss: 1.4503 - val_accuracy: 0.6708\n",
      "Epoch 11/20\n",
      "500/500 [==============================] - 68s 135ms/step - loss: 0.2542 - accuracy: 0.9077 - val_loss: 1.3663 - val_accuracy: 0.6682\n",
      "Epoch 12/20\n",
      "500/500 [==============================] - 67s 135ms/step - loss: 0.2295 - accuracy: 0.9178 - val_loss: 1.4303 - val_accuracy: 0.6724\n",
      "Epoch 13/20\n",
      "500/500 [==============================] - 70s 139ms/step - loss: 0.1903 - accuracy: 0.9315 - val_loss: 1.5245 - val_accuracy: 0.6703\n",
      "Epoch 14/20\n",
      "500/500 [==============================] - 68s 136ms/step - loss: 0.1713 - accuracy: 0.9389 - val_loss: 1.6259 - val_accuracy: 0.6812\n",
      "Epoch 15/20\n",
      "500/500 [==============================] - 66s 132ms/step - loss: 0.1543 - accuracy: 0.9465 - val_loss: 1.6893 - val_accuracy: 0.6745\n",
      "Epoch 16/20\n",
      "500/500 [==============================] - 67s 135ms/step - loss: 0.1397 - accuracy: 0.9517 - val_loss: 1.6465 - val_accuracy: 0.6714\n",
      "Epoch 17/20\n",
      "500/500 [==============================] - 71s 142ms/step - loss: 0.1241 - accuracy: 0.9576 - val_loss: 1.9103 - val_accuracy: 0.6760\n",
      "Epoch 18/20\n",
      "500/500 [==============================] - 69s 138ms/step - loss: 0.1200 - accuracy: 0.9585 - val_loss: 1.7848 - val_accuracy: 0.6859\n",
      "Epoch 19/20\n",
      "500/500 [==============================] - 68s 136ms/step - loss: 0.1057 - accuracy: 0.9638 - val_loss: 2.2282 - val_accuracy: 0.6604\n",
      "Epoch 20/20\n",
      "500/500 [==============================] - 71s 142ms/step - loss: 0.1047 - accuracy: 0.9643 - val_loss: 1.9022 - val_accuracy: 0.6729\n"
     ]
    }
   ],
   "source": [
    "#model_name = \"saved_model\"\n",
    "#model = tf.keras.models.load_model(\"../models/\" + model_name)\n",
    "#clone = tf.keras.models.clone_model(model) # copy model with reset weights\n",
    "model.compile(\n",
    "       optimizer = \"adam\",\n",
    "       loss = \"categorical_crossentropy\",\n",
    "       metrics = \"accuracy\"\n",
    "   )\n",
    "history = model.fit(train_generator, validation_data=validation_generator, epochs=20, steps_per_epoch=None, validation_steps=30) "
   ]
  },
  {
   "cell_type": "code",
   "execution_count": 41,
   "metadata": {},
   "outputs": [
    {
     "data": {
      "image/png": "[encoded data removed]",
      "text/plain": [
       "<Figure size 500x800 with 2 Axes>"
      ]
     },
     "metadata": {},
     "output_type": "display_data"
    }
   ],
   "source": [
    "# Plot the results\n",
    "acc = history.history['accuracy']\n",
    "val_acc = history.history['val_accuracy']\n",
    "loss = history.history['loss']\n",
    "val_loss = history.history['val_loss']\n",
    "\n",
    "epochs = range(len(acc))\n",
    "\n",
    "fig = plt.figure(figsize=(5,8))\n",
    "fig.add_subplot(211)\n",
    "plt.plot(epochs, acc, 'r', label='Training accuracy')\n",
    "plt.plot(epochs, val_acc, 'b', label='Validation accuracy')\n",
    "plt.title('Training and validation accuracy')\n",
    "plt.legend(loc=0)\n",
    "\n",
    "fig.add_subplot(212)\n",
    "plt.plot(epochs, loss, 'r', label='Training loss')\n",
    "plt.plot(epochs, val_loss, 'b', label='Validation loss')\n",
    "plt.title('Training and validation loss')\n",
    "plt.legend(loc=0)\n",
    "\n",
    "plt.show()"
   ]
  },
  {
   "cell_type": "code",
   "execution_count": 79,
   "metadata": {},
   "outputs": [
    {
     "data": {
      "text/plain": [
       "[1.984946846961975, 0.6685000061988831]"
      ]
     },
     "execution_count": 79,
     "metadata": {},
     "output_type": "execute_result"
    }
   ],
   "source": [
    "model.evaluate(test_generator, verbose=0)"
   ]
  },
  {
   "cell_type": "code",
   "execution_count": 43,
   "metadata": {},
   "outputs": [],
   "source": [
    "model.save(f\"../models/66%.h5\")"
   ]
  },
  {
   "attachments": {},
   "cell_type": "markdown",
   "metadata": {},
   "source": [
    "## Test Model on real Images"
   ]
  },
  {
   "cell_type": "code",
   "execution_count": 160,
   "metadata": {},
   "outputs": [],
   "source": [
    "model= tf.keras.models.load_model(\"../models/66%.h5\")"
   ]
  },
  {
   "cell_type": "code",
   "execution_count": 161,
   "metadata": {},
   "outputs": [],
   "source": [
    "\n",
    "from PIL import Image, ImageOps\n",
    "import numpy as np\n",
    "from skimage import transform\n",
    "\n",
    "def load(filename):\n",
    "   \"\"\"Load grayscaled image from specified path.\"\"\"\n",
    "   image = Image.open(filename).convert(\"L\")\n",
    "   image = ImageOps.fit(image,(150,150))\n",
    "   return image"
   ]
  },
  {
   "cell_type": "code",
   "execution_count": 173,
   "metadata": {},
   "outputs": [
    {
     "data": {
      "image/png": "[encoded data removed]",
      "text/plain": [
       "<PIL.Image.Image image mode=L size=150x150>"
      ]
     },
     "execution_count": 173,
     "metadata": {},
     "output_type": "execute_result"
    }
   ],
   "source": [
    "image_name = \"Dach_2.png\"\n",
    "image = load('../data/external/' + image_name)\n",
    "image"
   ]
  },
  {
   "cell_type": "code",
   "execution_count": 174,
   "metadata": {},
   "outputs": [
    {
     "data": {
      "text/plain": [
       "'3001 brick 2x4'"
      ]
     },
     "execution_count": 174,
     "metadata": {},
     "output_type": "execute_result"
    }
   ],
   "source": [
    "# prepare image to fit model input\n",
    "image = np.array(image)\n",
    "image = image.reshape((150, 150, 1))\n",
    "image = image/255\n",
    "image = np.expand_dims(image, axis=0)\n",
    "\n",
    "# predict image\n",
    "prediction = model.predict(image, verbose=0)\n",
    "index_class_predicted = np.argmax(prediction)\n",
    "keys=list(validation_generator.class_indices.keys())\n",
    "class_predicted = keys[index_class_predicted]\n",
    "class_predicted"
   ]
  },
  {
   "cell_type": "code",
   "execution_count": 49,
   "metadata": {},
   "outputs": [
    {
     "name": "stdout",
     "output_type": "stream",
     "text": [
      "Model: \"sequential_1\"\n",
      "_________________________________________________________________\n",
      " Layer (type)                Output Shape              Param #   \n",
      "=================================================================\n",
      " conv2d_3 (Conv2D)           (None, 149, 149, 64)      320       \n",
      "                                                                 \n",
      " max_pooling2d_2 (MaxPooling  (None, 74, 74, 64)       0         \n",
      " 2D)                                                             \n",
      "                                                                 \n",
      " conv2d_4 (Conv2D)           (None, 73, 73, 56)        14392     \n",
      "                                                                 \n",
      " conv2d_5 (Conv2D)           (None, 72, 72, 64)        14400     \n",
      "                                                                 \n",
      " max_pooling2d_3 (MaxPooling  (None, 36, 36, 64)       0         \n",
      " 2D)                                                             \n",
      "                                                                 \n",
      " flatten_1 (Flatten)         (None, 82944)             0         \n",
      "                                                                 \n",
      " dense_3 (Dense)             (None, 80)                6635600   \n",
      "                                                                 \n",
      " dense_4 (Dense)             (None, 90)                7290      \n",
      "                                                                 \n",
      " dropout_1 (Dropout)         (None, 90)                0         \n",
      "                                                                 \n",
      " dense_5 (Dense)             (None, 50)                4550      \n",
      "                                                                 \n",
      "=================================================================\n",
      "Total params: 6,676,552\n",
      "Trainable params: 6,676,552\n",
      "Non-trainable params: 0\n",
      "_________________________________________________________________\n"
     ]
    }
   ],
   "source": [
    "model.summary()"
   ]
  }
 ],
 "metadata": {
  "kernelspec": {
   "display_name": "tiny-bricks",
   "language": "python",
   "name": "python3"
  },
  "language_info": {
   "codemirror_mode": {
    "name": "ipython",
    "version": 3
   },
   "file_extension": ".py",
   "mimetype": "text/x-python",
   "name": "python",
   "nbconvert_exporter": "python",
   "pygments_lexer": "ipython3",
   "version": "3.9.15"
  },
  "vscode": {
   "interpreter": {
    "hash": "c132790df729e3502fd28b4bf6c60536dc0c017f505e68cd7f4f8770fc76b394"
   }
  }
 },
 "nbformat": 4,
 "nbformat_minor": 2
}
